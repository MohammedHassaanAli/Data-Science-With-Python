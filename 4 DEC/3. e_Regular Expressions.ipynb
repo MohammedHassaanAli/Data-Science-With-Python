{
 "cells": [
  {
   "cell_type": "code",
   "execution_count": 1,
   "metadata": {},
   "outputs": [
    {
     "data": {
      "text/plain": [
       "'\\n1111\\n 111\\n  11\\n   1\\n'"
      ]
     },
     "execution_count": 1,
     "metadata": {},
     "output_type": "execute_result"
    }
   ],
   "source": [
    "\"\"\"\n",
    "1111\n",
    " 111\n",
    "  11\n",
    "   1\n",
    "\"\"\""
   ]
  },
  {
   "cell_type": "code",
   "execution_count": 2,
   "metadata": {},
   "outputs": [
    {
     "data": {
      "text/plain": [
       "'\\n1111\\n 111\\n  11\\n   1\\n'"
      ]
     },
     "execution_count": 2,
     "metadata": {},
     "output_type": "execute_result"
    }
   ],
   "source": [
    "'''\n",
    "1111\n",
    " 111\n",
    "  11\n",
    "   1\n",
    "'''"
   ]
  },
  {
   "cell_type": "code",
   "execution_count": null,
   "metadata": {},
   "outputs": [],
   "source": [
    "numRow =  int(input(\"please enter number of Row:\"))\n",
    "for row in range (numRow,0,-1):\n",
    "    for col in range (1,row+1):\n",
    "           print (1,end='')\n",
    "    print()"
   ]
  },
  {
   "cell_type": "code",
   "execution_count": null,
   "metadata": {},
   "outputs": [],
   "source": [
    "def pyramid_one(n): \n",
    "      \n",
    "    # outer loop to handle number of rows \n",
    "    # n in this case \n",
    "    for i in range(0, n): \n",
    "      \n",
    "        # inner loop to handle number of columns \n",
    "        # values changing acc. to outer loop \n",
    "        print(\"# \",end=\"\")\n",
    "        print(\" \"*i,end=\"\")\n",
    "        for j in range(0, n-i): \n",
    "          \n",
    "            # printing 1 \n",
    "            print(\"1\",end=\"\") \n",
    "       \n",
    "        # ending line after each row \n",
    "        print(\"\\r\") \n",
    "  \n",
    "# Driver Code \n",
    "n = 5\n",
    "\n",
    "pyramid_one(n) "
   ]
  },
  {
   "cell_type": "code",
   "execution_count": 11,
   "metadata": {},
   "outputs": [
    {
     "name": "stdout",
     "output_type": "stream",
     "text": [
      "Please enter the dimensions of the square matrix: 6\n",
      "111111\n",
      " 11111\n",
      "  1111\n",
      "   111\n",
      "    11\n",
      "     1\n"
     ]
    }
   ],
   "source": [
    "inp = input(\"Please enter the dimensions of the square matrix: \")\n",
    "inp = int(inp)\n",
    "for row in range(inp):\n",
    "    lst = []\n",
    "    for col in range(inp):\n",
    "        if(row>col):\n",
    "            lst.append(\" \")\n",
    "        else:\n",
    "            lst.append(\"1\")\n",
    "    x = ''.join(lst) \n",
    "    print(x)"
   ]
  },
  {
   "cell_type": "markdown",
   "metadata": {},
   "source": [
    "# REGULAR EXPRESSIONS"
   ]
  },
  {
   "cell_type": "markdown",
   "metadata": {},
   "source": [
    "## Special Characters \n",
    "Refer: https://regex101.com/\n",
    "https://www.regexpal.com/\n",
    "\n",
    "Special characters are escaped using \\: . \\ | ( ) [ { ^ $ * + ?\n",
    "\n",
    "The special characters are:\n",
    "\n",
    "- '.'\n",
    "\n",
    "    (Dot.) In the default mode, this matches any character except a newline. If the DOTALL flag has been specified, this matches any character including a newline.\n",
    "- '^'\n",
    "\n",
    "    (Caret.) Matches the start of the string, and in MULTILINE mode also matches immediately after each newline.\n",
    "- '$'\n",
    "\n",
    "    Matches the end of the string or just before the newline at the end of the string, and in MULTILINE mode also matches before a newline. foo matches both ‘foo’ and ‘foobar’, while the regular expression foo$ matches only ‘foo’. More interestingly, searching for foo.$ in 'foo1\\nfoo2\\n' matches ‘foo2’ normally, but ‘foo1’ in MULTILINE mode; searching for a single $ in 'foo\\n' will find two (empty) matches: one just before the newline, and one at the end of the string.\n",
    "- '*'\n",
    "\n",
    "    Causes the resulting RE to match 0 or more repetitions of the preceding RE, as many repetitions as are possible. ab* will match ‘a’, ‘ab’, or ‘a’ followed by any number of ‘b’s.\n",
    "- '+'\n",
    "\n",
    "    Causes the resulting RE to match 1 or more repetitions of the preceding RE. ab+ will match ‘a’ followed by any non-zero number of ‘b’s; it will not match just ‘a’.\n",
    "- '?'\n",
    "\n",
    "    Causes the resulting RE to match 0 or 1 repetitions of the preceding RE. ab? will match either ‘a’ or ‘ab’.\n",
    "- *?, +?, ??\n",
    "\n",
    "    The '*', '+', and '?' qualifiers are all greedy; they match as much text as possible. Sometimes this behaviour isn’t desired; if the RE <.*> is matched against <a> b <c>, it will match the entire string, and not just <a>. Adding ? after the qualifier makes it perform the match in non-greedy or minimal fashion; as few characters as possible will be matched. Using the RE <.*?> will match only <a>.\n",
    "\n",
    "- {m}\n",
    "\n",
    "    Specifies that exactly m copies of the previous RE should be matched; fewer matches cause the entire RE not to match. For example, a{6} will match exactly six 'a' characters, but not five.\n",
    "- {m,n}\n",
    "\n",
    "    Causes the resulting RE to match from m to n repetitions of the preceding RE, attempting to match as many repetitions as possible. For example, a{3,5} will match from 3 to 5 'a' characters. Omitting m specifies a lower bound of zero, and omitting n specifies an infinite upper bound. As an example, a{4,}b will match aaaab or a thousand 'a' characters followed by a b, but not aaab. The comma may not be omitted or the modifier would be confused with the previously described form.\n",
    "- {m,n}?\n",
    "\n",
    "    Causes the resulting RE to match from m to n repetitions of the preceding RE, attempting to match as few repetitions as possible. This is the non-greedy version of the previous qualifier. For example, on the 6-character string 'aaaaaa', a{3,5} will match 5 'a' characters, while a{3,5}? will only match 3 characters.\n",
    "- '\\\\'\n",
    "\n",
    "    Either escapes special characters (permitting you to match characters like '*', '?', and so forth), or signals a special sequence; special sequences: \\d, \\D, \\w,\\W\n",
    "\n",
    "### []\n",
    "\n",
    "    Used to indicate a set of characters. In a set:\n",
    "\n",
    "        - Characters can be listed individually, e.g. [amk] will match 'a', 'm', or 'k'.\n",
    "\n",
    "        - Ranges of characters can be indicated by giving two characters and separating them by a '-', for example [a-z] will match any lowercase ASCII letter, [0-5][0-9] will match all the two-digits numbers from 00 to 59, and [0-9A-Fa-f] will match any hexadecimal digit. If - is escaped (e.g. [a\\-z]) or if it’s placed as the first or last character (e.g. [a-]), it will match a literal '-'.\n",
    "\n",
    "        - Special characters lose their special meaning inside sets. For example, [(+*)] will match any of the literal characters '(', '+', '*', or ')'.\n",
    "        -Characters that are not within a range can be matched by complementing the set. If the first character of the set is '^', all the characters that are not in the set will be matched. For example, [^5] will match any character except '5', and [^^] will match any character except '^'. ^ has no special meaning if it’s not the first character in the set.\n",
    "\n",
    "        - To match a literal ']' inside a set, precede it with a backslash, or place it at the beginning of the set. For example, both [()[\\]{}] and []()[{}] will both match a parenthesis.\n",
    "\n",
    "\n",
    "\n",
    "A character class is a list of characters enclosed between [ and ] which matches \n",
    "   any single character in that list; unless the first character of the list is    the caret ^, \n",
    "   when it matches any   character not in the list. For example, the regular \n",
    "   expression [0123456789] matches any single digit, and [^abc] matches anything except \n",
    "   the characters a, b or c. A range of characters may be specified by giving the first\n",
    "   and last characters, separated by a hyphen. (Because their interpretation is locale- and \n",
    "   implementation-dependent, character ranges are best avoided.) \n",
    "[...] matches any character [a-z,A-Z]\n",
    "[^...] matches all the characters except these [^1-6]- matches all characters except 1 to 6\n",
    "'|'\n",
    "\n",
    "-    A|B, where A and B can be arbitrary REs, creates a regular expression that will match either A or B. An arbitrary number of REs can be separated by the '|' in this way. This can be used inside groups (see below) as well. As the target string is scanned, REs separated by '|' are tried from left to right. When one pattern completely matches, that branch is accepted. This means that once A matches, B will not be tested further, even if it would produce a longer overall match. In other words, the '|' operator is never greedy. To match a literal '|', use \\|, or enclose it inside a character class, as in [|].\n",
    "(...)\n",
    "\n",
    "-    Matches whatever regular expression is inside the parentheses, and indicates the start and end of a group; the contents of a group can be retrieved after a match has been performed, and can be matched later in the string with the \\number special sequence, described below. To match the literals '(' or ')', use \\( or \\), or enclose them inside a character class: [(] [)].\n",
    "\n",
    "- '|'\n",
    "\n",
    "    A|B, where A and B can be arbitrary REs, creates a regular expression that will match either A or B. An arbitrary number of REs can be separated by the '|' in this way. This can be used inside groups (see below) as well. As the target string is scanned, REs separated by '|' are tried from left to right. When one pattern completely matches, that branch is accepted. This means that once A matches, B will not be tested further, even if it would produce a longer overall match. In other words, the '|' operator is never greedy. To match a literal '|', use \\|, or enclose it inside a character class, as in [|].\n",
    "(...)\n",
    "\n",
    "    Matches whatever regular expression is inside the parentheses, and indicates the start and end of a group; the contents of a group can be retrieved after a match has been performed, and can be matched later in the string with the \\number special sequence, described below. To match the literals '(' or ')', use \\( or \\), or enclose them inside a character class: [(] [)].\n",
    "\n",
    "\n",
    "The special sequences consist of '\\' and a character from the list below. If the ordinary character is not on the list, then the resulting RE will match the second character. For example, \\$ matches the character '$'. Make sure you don't set the unicode and locale flags to match an ascii character. \n",
    "\n",
    "- \\number\n",
    "\n",
    "    Matches the contents of the group of the same number. Groups are numbered starting from 1. For example, (.+) \\1 matches 'the the' or '55 55', but not 'thethe' (note the space after the group). This special sequence can only be used to match one of the first 99 groups. If the first digit of number is 0, or number is 3 digits long, it will not be interpreted as a group match, but as the character with the value number. Inside the '[' and ']' of a character class, all numeric escapes are treated as characters.\n",
    "- \\A\n",
    "\n",
    "    Matches only at the start of the string.\n",
    "- \\b - matches word boundary\n",
    "\n",
    "    Matches the empty string, but only at the beginning or end of a word. A word is defined as a sequence of alphanumeric or underscore characters, so the end of a word is indicated by whitespace or a non-alphanumeric, non-underscore character. Note that formally, \\b is defined as the boundary between a \\w and a \\W character (or vice versa), or between \\w and the beginning/end of the string. For example, r'\\bfoo\\b' matches 'foo', 'foo.', '(foo)', 'bar foo baz', 'foo!' but not 'foobar' or 'foo3'. Inside a character range, \\b represents the backspace character, for compatibility with Python’s string literals.\n",
    "- \\B - matches non boundary\n",
    "\n",
    "    Matches the empty string, but only when it is not at the beginning or end of a word. This means that r'py\\B' matches 'python', 'py3', 'py2', but not 'py', 'py.', or 'py!'. \\B is just the opposite of \\b, \n",
    "- \\d - digit\n",
    "- \\D - nondigit\n",
    "- \\s\n",
    "\n",
    "   '[ \\t\\n]'\n",
    "   \n",
    "- \\S matches any non-whitespace character; this is equivalent to the set [^ \\t\\n] \n",
    "    \n",
    "- \\w alpha-numeric charactersequivalent to the set [a-zA-Z0-9_]. \n",
    "- \\W non-alpha-numeric [^a-zA-Z0-9_]\n",
    "\n",
    "-\\Z    Matches only at the end of the string."
   ]
  },
  {
   "cell_type": "code",
   "execution_count": 12,
   "metadata": {},
   "outputs": [],
   "source": [
    "import re"
   ]
  },
  {
   "cell_type": "code",
   "execution_count": 13,
   "metadata": {},
   "outputs": [
    {
     "data": {
      "text/plain": [
       "'\\n12345678901              \\\\d*\\n$12345678901             \\\\$\\\\d*\\n$12345678901.42          \\\\$\\\\d*\\\\.\\\\d*\\n$12345678901.42          \\\\$\\\\d*\\\\.\\\\d{2}\\n123-456-7890             \\\\d{3}-\\\\d{3}-\\\\d{4}\\nAustralia                [A-Z]\\\\w*\\n'"
      ]
     },
     "execution_count": 13,
     "metadata": {},
     "output_type": "execute_result"
    }
   ],
   "source": [
    "\"\"\"\n",
    "12345678901              \\d*\n",
    "$12345678901             \\$\\d*\n",
    "$12345678901.42          \\$\\d*\\.\\d+\n",
    "$12345678901.42          \\$\\d*\\.\\d{2}\n",
    "123-456-7890             \\d{3}-\\d{3}-\\d{4}\n",
    "Australia                [A-Z]\\w*\n",
    "\"\"\""
   ]
  },
  {
   "cell_type": "code",
   "execution_count": 14,
   "metadata": {},
   "outputs": [
    {
     "data": {
      "text/plain": [
       "\"The regular expression module in python is re. When performing pattern matching on data,since the pattern will be used for a match across multiple rows,it's better to compile the pattern first using re.compile(), and then use the compiled pattern to match values. After compilation the methods can be applied: \\n\\nsplit,\\nfindall  - returns all matches,\\nmatch  - checks only the beginning of the string,\\nsearch  - returns the first occurrence\\nsub  - returns a new string with occurrences of the pattern replaced with the supplied string\\n\""
      ]
     },
     "execution_count": 14,
     "metadata": {},
     "output_type": "execute_result"
    }
   ],
   "source": [
    "\"\"\"The regular expression module in python is re. When performing pattern matching on data,\\\n",
    "since the pattern will be used for a match across multiple rows,\\\n",
    "it's better to compile the pattern first using re.compile(), and then use the compiled \\\n",
    "pattern to match values. After compilation the methods can be applied: \n",
    "\n",
    "split,\n",
    "findall  - returns all matches,\n",
    "match  - checks only the beginning of the string,\n",
    "search  - returns the first occurrence\n",
    "sub  - returns a new string with occurrences of the pattern replaced with the supplied string\n",
    "\"\"\""
   ]
  },
  {
   "cell_type": "code",
   "execution_count": 8,
   "metadata": {},
   "outputs": [
    {
     "data": {
      "text/plain": [
       "re.compile(r'\\d{3}-\\d{3}-[0-9]{4}', re.UNICODE)"
      ]
     },
     "execution_count": 8,
     "metadata": {},
     "output_type": "execute_result"
    }
   ],
   "source": [
    "import re\n",
    "patternob = re.compile('\\d{3}-\\d{3}-[0-9]{4}')\n",
    "patternob"
   ]
  },
  {
   "cell_type": "code",
   "execution_count": 16,
   "metadata": {},
   "outputs": [
    {
     "data": {
      "text/plain": [
       "['123-456-8903', '123-345-5678', '456-890-9345']"
      ]
     },
     "execution_count": 16,
     "metadata": {},
     "output_type": "execute_result"
    }
   ],
   "source": [
    "patternob.findall(string = \"123-456-8903, 123-345-5678, 9024-232, 456-890-9345\")"
   ]
  },
  {
   "cell_type": "code",
   "execution_count": 10,
   "metadata": {},
   "outputs": [],
   "source": [
    "string = \"90, 123-456-8903, 123-345-5678, 9024-232\"\n",
    "patternob.match(string) #match is not there at the beginning of the string hence null is returned"
   ]
  },
  {
   "cell_type": "code",
   "execution_count": 13,
   "metadata": {},
   "outputs": [
    {
     "name": "stdout",
     "output_type": "stream",
     "text": [
      "<_sre.SRE_Match object; span=(0, 12), match='123-456-8903'>\n"
     ]
    },
    {
     "data": {
      "text/plain": [
       "'123-456-8903'"
      ]
     },
     "execution_count": 13,
     "metadata": {},
     "output_type": "execute_result"
    }
   ],
   "source": [
    "string = \"123-456-8903, 123-345-5678, 9024-232\"\n",
    "x = patternob.match(string)\n",
    "print(x)\n",
    "x.group()"
   ]
  },
  {
   "cell_type": "code",
   "execution_count": 14,
   "metadata": {},
   "outputs": [
    {
     "data": {
      "text/plain": [
       "<_sre.SRE_Match object; span=(4, 16), match='123-456-8903'>"
      ]
     },
     "execution_count": 14,
     "metadata": {},
     "output_type": "execute_result"
    }
   ],
   "source": [
    "string = \"90, 123-456-8903, 123-345-5678, 9024-232\"\n",
    "x = patternob.search(string) #returns the first occurrence with span\n",
    "x"
   ]
  },
  {
   "cell_type": "code",
   "execution_count": 15,
   "metadata": {},
   "outputs": [
    {
     "data": {
      "text/plain": [
       "'123-456-8903'"
      ]
     },
     "execution_count": 15,
     "metadata": {},
     "output_type": "execute_result"
    }
   ],
   "source": [
    "x.group()"
   ]
  },
  {
   "cell_type": "code",
   "execution_count": 19,
   "metadata": {},
   "outputs": [],
   "source": [
    "patternob.match(string) #looks for the pattern at the beginning of the string"
   ]
  },
  {
   "cell_type": "code",
   "execution_count": 20,
   "metadata": {},
   "outputs": [
    {
     "data": {
      "text/plain": [
       "'90, Found it, Found it, 9024-232'"
      ]
     },
     "execution_count": 20,
     "metadata": {},
     "output_type": "execute_result"
    }
   ],
   "source": [
    "patternob.sub(\"Found it\", string,) #substitute all the occurrences"
   ]
  },
  {
   "cell_type": "code",
   "execution_count": 21,
   "metadata": {},
   "outputs": [],
   "source": [
    "#extract info in paranthesis (laugh), (groans), (cries)\n",
    "a = \"What are we doing tomorrow? (laugh)Play soccer (groans) (cries)\"\n",
    "pattern = \"\\(.+?\\)\" #? makes sure non-greedy version\n",
    "b = re.compile(pattern)\n",
    "#\".*\" is a greedy version\n",
    "#\".+\" is also a greedy version\n",
    "#Adding ? will turn it into non-greedy"
   ]
  },
  {
   "cell_type": "code",
   "execution_count": 22,
   "metadata": {},
   "outputs": [
    {
     "data": {
      "text/plain": [
       "['(laugh)', '(groans)', '(cries)']"
      ]
     },
     "execution_count": 22,
     "metadata": {},
     "output_type": "execute_result"
    }
   ],
   "source": [
    "b.findall(a)"
   ]
  },
  {
   "cell_type": "code",
   "execution_count": 31,
   "metadata": {},
   "outputs": [
    {
     "data": {
      "text/plain": [
       "['(laugh)', '(groans)', '(cries)']"
      ]
     },
     "execution_count": 31,
     "metadata": {},
     "output_type": "execute_result"
    }
   ],
   "source": [
    "re.findall(pattern = \"\\(\\w+\\)\", string = a)"
   ]
  },
  {
   "cell_type": "code",
   "execution_count": 6,
   "metadata": {},
   "outputs": [],
   "source": [
    "#split according to () and space\n",
    "pattern = \"[ ()]\"\n",
    "b = re.compile(pattern)"
   ]
  },
  {
   "cell_type": "code",
   "execution_count": 5,
   "metadata": {},
   "outputs": [
    {
     "data": {
      "text/plain": [
       "'What are we doing tomorrow? (laugh)Play soccer (groans) (cries)'"
      ]
     },
     "execution_count": 5,
     "metadata": {},
     "output_type": "execute_result"
    }
   ],
   "source": [
    "a.split()"
   ]
  },
  {
   "cell_type": "code",
   "execution_count": 7,
   "metadata": {},
   "outputs": [
    {
     "data": {
      "text/plain": [
       "['What',\n",
       " 'are',\n",
       " 'we',\n",
       " 'doing',\n",
       " 'tomorrow?',\n",
       " '',\n",
       " 'laugh',\n",
       " 'Play',\n",
       " 'soccer',\n",
       " '',\n",
       " 'groans',\n",
       " '',\n",
       " '',\n",
       " 'cries',\n",
       " '']"
      ]
     },
     "execution_count": 7,
     "metadata": {},
     "output_type": "execute_result"
    }
   ],
   "source": [
    "b.split(string = a)"
   ]
  },
  {
   "cell_type": "code",
   "execution_count": 16,
   "metadata": {},
   "outputs": [],
   "source": [
    "number  = \"1001000000000100\"\n",
    "pattern1 = \"1.+1\" #greedy version\n",
    "pattern2 = \"1.+?1\"  #non-greedy version\n",
    "a = re.compile(pattern1)\n",
    "b = re.compile(pattern2)"
   ]
  },
  {
   "cell_type": "code",
   "execution_count": 17,
   "metadata": {},
   "outputs": [
    {
     "data": {
      "text/plain": [
       "['10010000000001']"
      ]
     },
     "execution_count": 17,
     "metadata": {},
     "output_type": "execute_result"
    }
   ],
   "source": [
    "a.findall(number)#"
   ]
  },
  {
   "cell_type": "code",
   "execution_count": 18,
   "metadata": {},
   "outputs": [
    {
     "data": {
      "text/plain": [
       "['1001']"
      ]
     },
     "execution_count": 18,
     "metadata": {},
     "output_type": "execute_result"
    }
   ],
   "source": [
    "b.findall(number)"
   ]
  },
  {
   "cell_type": "code",
   "execution_count": 66,
   "metadata": {},
   "outputs": [
    {
     "data": {
      "text/plain": [
       "re.compile(r'[a-zA-Z0-9_]+@[a-zA-Z0-9_]+\\.com', re.UNICODE)"
      ]
     },
     "execution_count": 66,
     "metadata": {},
     "output_type": "execute_result"
    }
   ],
   "source": [
    "#to find email ids from a string\n",
    "pattern = \"[a-zA-Z0-9_]+@[a-zA-Z0-9_]+\\.com\"\n",
    "a = re.compile(pattern)\n",
    "a"
   ]
  },
  {
   "cell_type": "code",
   "execution_count": 67,
   "metadata": {},
   "outputs": [],
   "source": [
    "lst = [\"My email address is abc@boeing.com\",\"my email address is def@jobs.com\",\"aescher koeif\",\"paul@renne.com\"]"
   ]
  },
  {
   "cell_type": "code",
   "execution_count": 68,
   "metadata": {},
   "outputs": [
    {
     "data": {
      "text/plain": [
       "['abc@boeing.com']"
      ]
     },
     "execution_count": 68,
     "metadata": {},
     "output_type": "execute_result"
    }
   ],
   "source": [
    "a.findall(lst[0])"
   ]
  },
  {
   "cell_type": "code",
   "execution_count": 69,
   "metadata": {},
   "outputs": [
    {
     "name": "stdout",
     "output_type": "stream",
     "text": [
      "['abc@boeing.com']\n",
      "['def@jobs.com']\n",
      "[]\n",
      "['paul@renne.com']\n"
     ]
    }
   ],
   "source": [
    "for i in range(len(lst)):\n",
    "    print(a.findall(lst[i]))"
   ]
  },
  {
   "cell_type": "code",
   "execution_count": 28,
   "metadata": {},
   "outputs": [
    {
     "data": {
      "text/plain": [
       "[['abc@boeing.com'], ['def@jobs.com'], [], ['paul@renne.com']]"
      ]
     },
     "execution_count": 28,
     "metadata": {},
     "output_type": "execute_result"
    }
   ],
   "source": [
    "x = [a.findall(lst[i]) for i in range(len(lst))]\n",
    "x\n",
    "#unlist them"
   ]
  },
  {
   "cell_type": "code",
   "execution_count": 29,
   "metadata": {},
   "outputs": [
    {
     "data": {
      "text/plain": [
       "['abc@boeing.com', 'def@jobs.com', 'paul@renne.com']"
      ]
     },
     "execution_count": 29,
     "metadata": {},
     "output_type": "execute_result"
    }
   ],
   "source": [
    "sum(x, [])"
   ]
  },
  {
   "cell_type": "code",
   "execution_count": 30,
   "metadata": {},
   "outputs": [
    {
     "name": "stdout",
     "output_type": "stream",
     "text": [
      "['abc@boeing.com', 'def@jobs.com', 'paul@renne.com']\n"
     ]
    }
   ],
   "source": [
    "y=[]\n",
    "for i in range(len(x)):\n",
    "    y = y + x[i]\n",
    "print(y)"
   ]
  },
  {
   "cell_type": "code",
   "execution_count": 31,
   "metadata": {},
   "outputs": [
    {
     "name": "stdout",
     "output_type": "stream",
     "text": [
      "abc@boeing.com,def@jobs.com,paul@renne.com,"
     ]
    }
   ],
   "source": [
    "#print all the email ids \n",
    "for i in range(len(lst)):\n",
    "    x = a.findall(lst[i])\n",
    "    if len(x)==0:\n",
    "        continue\n",
    "    else:\n",
    "        [print(x[i], end = \",\") for i in range(len(x))]"
   ]
  },
  {
   "cell_type": "code",
   "execution_count": 4,
   "metadata": {},
   "outputs": [
    {
     "name": "stdout",
     "output_type": "stream",
     "text": [
      "<_sre.SRE_Match object; span=(0, 7), match='24.1632'>\n",
      "<_sre.SRE_Match object; span=(0, 7), match='24.1632'>\n"
     ]
    }
   ],
   "source": [
    "import re\n",
    "#without compiling the regular expression\n",
    "m = re.match(r\"(\\d+).(\\d+)\", \"24.1632\") \n",
    "#we have put r to indicate the special characters don't assume special meanings and are not escaped by escape char\n",
    "print(m)\n",
    "#note r indicates that we are not escaping the special symbols\n",
    "n = re.match(r\"(\\d+)\\.(\\d+)\", \"24.1632\")\n",
    "print(n)"
   ]
  },
  {
   "cell_type": "code",
   "execution_count": 33,
   "metadata": {},
   "outputs": [
    {
     "name": "stdout",
     "output_type": "stream",
     "text": [
      "<_sre.SRE_Match object; span=(5, 8), match='one'>\n",
      "one\n",
      "On\n"
     ]
    }
   ],
   "source": [
    "import re\n",
    "str = \"Take one up 1-3-2019 on 23 idea.One idea 45 at a Time 12-11-2020\"\n",
    "#find the first sub-strings that starts with o and followed by any 2 characters\n",
    "result = re.search(r'o\\w\\w', str) #\\w means any 2 alpha-numeric characters\n",
    "#note:r indicates we are not escaping the special symbols in the string\n",
    "print(result)\n",
    "print(result.group()) \n",
    "\n",
    "#o and 1 alpha numeric character\n",
    "result1 = re.search(r'O\\w', str) #one alpha numeric character after O\n",
    "#this returns a search object. on that search object we have to invoke a group method\n",
    "print(result1.group()) \n"
   ]
  },
  {
   "cell_type": "code",
   "execution_count": 34,
   "metadata": {},
   "outputs": [
    {
     "name": "stdout",
     "output_type": "stream",
     "text": [
      "['on', 'on']\n",
      "['On']\n",
      "[]\n"
     ]
    }
   ],
   "source": [
    "result = re.findall(r'o\\w', str)\n",
    "print(result)\n",
    "\n",
    "result = re.findall(r'O\\w', str)\n",
    "print(result)\n",
    "\n",
    "result = re.findall(r'O\\w\\w\\w', str)\n",
    "print(result) #returns an empty list\n"
   ]
  },
  {
   "cell_type": "code",
   "execution_count": 35,
   "metadata": {},
   "outputs": [
    {
     "data": {
      "text/plain": [
       "'Take one up 1-3-2019 on 23 idea.One idea 45 at a Time 12-11-2020'"
      ]
     },
     "execution_count": 35,
     "metadata": {},
     "output_type": "execute_result"
    }
   ],
   "source": [
    "str"
   ]
  },
  {
   "cell_type": "code",
   "execution_count": 36,
   "metadata": {},
   "outputs": [
    {
     "name": "stdout",
     "output_type": "stream",
     "text": [
      "Tak\n",
      "None\n"
     ]
    }
   ],
   "source": [
    "result = re.match(r'T\\w\\w', str) #match method matches at the beginning of the string, words lik tak tal\n",
    "print(result.group())\n",
    "\n",
    "result = re.match(r't\\w\\w', str)\n",
    "print(result) #by asking to print result.group - getting error. \n",
    "#Result has none since there is no t\\w\\w at the beginning of the string."
   ]
  },
  {
   "cell_type": "code",
   "execution_count": 37,
   "metadata": {},
   "outputs": [
    {
     "name": "stdout",
     "output_type": "stream",
     "text": [
      "Take one up 1-3-2019 on 23 idea.One idea 45 at a Time 12-11-2020\n",
      "['Take one up ', '-', '-', ' on ', ' idea.One idea ', ' at a Time ', '-', '-', '']\n"
     ]
    }
   ],
   "source": [
    "#splits the string into multiple strings where-ever there is the specified delimiter\n",
    "print(str)\n",
    "result=re.split(r'\\d+',str)  #here we are using 1 or more digit as the delimiter\n",
    "print(result)"
   ]
  },
  {
   "cell_type": "code",
   "execution_count": 38,
   "metadata": {},
   "outputs": [
    {
     "name": "stdout",
     "output_type": "stream",
     "text": [
      "Take one up 1-3-2019 on 23 idea.Two idea 45 at a Time 12-11-2020\n"
     ]
    }
   ],
   "source": [
    "#sub function will substitute x pattern with y pattern in the given string\n",
    "result = re.sub(r'One', 'Two', str)\n",
    "print(result)"
   ]
  },
  {
   "cell_type": "markdown",
   "metadata": {},
   "source": [
    "### Regular Expression: Multiple character matching using Quantifiers\n",
    "So far, we have studied single character matching. We use quantifiers for multiple characters matching. \n",
    "+ 1 or more occurrence of preceding regular exp eg. O\\d+ starts with O & 1 or more preceding reg expr(digits)\n",
    "* 0 or more occurrence of preceding regular expr eg. \\d* means 0 or more digits\n",
    "* ? 0 or 1 representation of preceding regex eg. re.findall(r'O\\w?').str gives O followed by 0 or 1 alnum char\n",
    "* {} in this you can specify the exact no. of occurrences of preceding regex eg. re.findall(r'O\\w{1}')-O+1alnum\n",
    "* {min, max} re.findall(r'O\\w{1,2}') means begins with O followed by min 1 alnum char and max 2 alnum chars"
   ]
  },
  {
   "cell_type": "code",
   "execution_count": 5,
   "metadata": {},
   "outputs": [],
   "source": [
    "str = 'Take one up 1-3-2019 on 23 idea.One idea 45 at a Time 12-11-2020'"
   ]
  },
  {
   "cell_type": "code",
   "execution_count": 39,
   "metadata": {},
   "outputs": [
    {
     "data": {
      "text/plain": [
       "['1-3-2019', '12-11-2020']"
      ]
     },
     "execution_count": 39,
     "metadata": {},
     "output_type": "execute_result"
    }
   ],
   "source": [
    "#Regular expr to find all the matching dates within a given string 22-11-2012\n",
    "re.findall(r'\\d{1,2}-\\d{1,2}-\\d{4}',str)"
   ]
  },
  {
   "cell_type": "code",
   "execution_count": 40,
   "metadata": {},
   "outputs": [
    {
     "name": "stdout",
     "output_type": "stream",
     "text": [
      "['1-3-2019', '12-11-2020']\n"
     ]
    }
   ],
   "source": [
    "result = re.findall(r'\\d{1,2}-\\d{1,2}-\\d{4}', str)\n",
    "print(result)"
   ]
  },
  {
   "cell_type": "code",
   "execution_count": 41,
   "metadata": {},
   "outputs": [
    {
     "name": "stdout",
     "output_type": "stream",
     "text": [
      "Take\n"
     ]
    }
   ],
   "source": [
    "result = re.search(r'^T\\w*', str)#begins with T and followed by 0 or more alnum char\n",
    "print(result.group())"
   ]
  }
 ],
 "metadata": {
  "kernelspec": {
   "display_name": "Python 3",
   "language": "python",
   "name": "python3"
  },
  "language_info": {
   "codemirror_mode": {
    "name": "ipython",
    "version": 3
   },
   "file_extension": ".py",
   "mimetype": "text/x-python",
   "name": "python",
   "nbconvert_exporter": "python",
   "pygments_lexer": "ipython3",
   "version": "3.7.4"
  }
 },
 "nbformat": 4,
 "nbformat_minor": 2
}
