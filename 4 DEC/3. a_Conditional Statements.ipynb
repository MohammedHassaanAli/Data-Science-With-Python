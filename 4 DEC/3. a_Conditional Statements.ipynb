{
 "cells": [
  {
   "cell_type": "raw",
   "metadata": {},
   "source": [
    "'''\n",
    "IF Statement\n",
    "\n",
    "if expression:\n",
    "   statement(s)\n",
    "   statemnet(s)\n",
    "else: # optional\n",
    "   statement(s)\n",
    " '''"
   ]
  },
  {
   "cell_type": "raw",
   "metadata": {},
   "source": [
    "The store offers discount of 10% if purchase is of Rs. 1000 or more and 5% on all other purchases"
   ]
  },
  {
   "cell_type": "code",
   "execution_count": 6,
   "metadata": {},
   "outputs": [
    {
     "name": "stdout",
     "output_type": "stream",
     "text": [
      "Enter amount: 1000\n"
     ]
    }
   ],
   "source": [
    "# Calculate Discount\n",
    "amount=float(input(\"Enter amount: \"))"
   ]
  },
  {
   "cell_type": "raw",
   "metadata": {},
   "source": [
    "if amount<1000:\n",
    "    disc = .....\n",
    "    fg....\n",
    "    \n",
    " "
   ]
  },
  {
   "cell_type": "code",
   "execution_count": 3,
   "metadata": {},
   "outputs": [
    {
     "name": "stdout",
     "output_type": "stream",
     "text": [
      "discount is 3.000000\n",
      "57.0\n"
     ]
    }
   ],
   "source": [
    "if amount < 1000: #>,<,<=,>=, ==,!=\n",
    "    disc = amount*0.05\n",
    "    print(\"discount is %f\"%disc)\n",
    "else :\n",
    "    disc =  amount *0.10\n",
    "    print(\"discount is %.2f\" %disc)\n",
    "print(amount - disc)"
   ]
  },
  {
   "cell_type": "code",
   "execution_count": 4,
   "metadata": {},
   "outputs": [
    {
     "name": "stdout",
     "output_type": "stream",
     "text": [
      "57.0\n"
     ]
    }
   ],
   "source": [
    "if amount >= 1000:\n",
    "    disc = amount*.10\n",
    "else: \n",
    "    disc = amount *0.05\n",
    "    print(amount - disc)\n",
    "print(amount - disc)"
   ]
  },
  {
   "cell_type": "code",
   "execution_count": 10,
   "metadata": {},
   "outputs": [],
   "source": [
    "amount = 4100"
   ]
  },
  {
   "cell_type": "code",
   "execution_count": 8,
   "metadata": {
    "scrolled": true
   },
   "outputs": [
    {
     "name": "stdout",
     "output_type": "stream",
     "text": [
      "end\n"
     ]
    }
   ],
   "source": [
    "if amount >= 1000:\n",
    "    disc = amount *0.10\n",
    "    print(disc)\n",
    "    print(amount-disc)\n",
    "print(\"end\")"
   ]
  },
  {
   "cell_type": "code",
   "execution_count": 14,
   "metadata": {},
   "outputs": [
    {
     "data": {
      "text/plain": [
       "3690.0"
      ]
     },
     "execution_count": 14,
     "metadata": {},
     "output_type": "execute_result"
    }
   ],
   "source": [
    "round(amount - disc,2)"
   ]
  },
  {
   "cell_type": "raw",
   "metadata": {},
   "source": [
    "discounts:\n",
    "    1 to 500 --> 5%\n",
    "    500 to 1000 ---> 7.5%\n",
    "    1000 to 5000 ----> 12.5%\n",
    "    5000 and above ----> 25%"
   ]
  },
  {
   "cell_type": "code",
   "execution_count": 15,
   "metadata": {},
   "outputs": [],
   "source": [
    "if amount <= 500:\n",
    "    disc = 0.05\n",
    "else :\n",
    "    if amount <= 1000:\n",
    "        disc = 0.075\n",
    "    else :\n",
    "        if amount <= 5000:\n",
    "            disc = 0.125\n",
    "        else :\n",
    "            disc = 0.25"
   ]
  },
  {
   "cell_type": "code",
   "execution_count": null,
   "metadata": {},
   "outputs": [],
   "source": [
    "'''\n",
    "The elif Statement\n",
    "\n",
    "\n",
    "if expression1:\n",
    "    statement(s)\n",
    "elif expression2:\n",
    "    statement(s)\n",
    "elif expression3:\n",
    "    statement(s)\n",
    "else:\n",
    "    statement(s)\n",
    "'''"
   ]
  },
  {
   "cell_type": "code",
   "execution_count": null,
   "metadata": {},
   "outputs": [],
   "source": [
    "discounts:\n",
    "    1 to 500 --> 5%\n",
    "    500 to 1000 ---> 7.5%\n",
    "    1000 to 5000 ----> 12.5%\n",
    "    5000 and above ----> 25%"
   ]
  },
  {
   "cell_type": "code",
   "execution_count": 16,
   "metadata": {},
   "outputs": [],
   "source": [
    "amount = 2000"
   ]
  },
  {
   "cell_type": "code",
   "execution_count": 17,
   "metadata": {},
   "outputs": [
    {
     "name": "stdout",
     "output_type": "stream",
     "text": [
      "0.125\n"
     ]
    }
   ],
   "source": [
    "if amount <= 500:\n",
    "    disc = 0.05\n",
    "elif amount <=1000:\n",
    "    disc = 0.075\n",
    "elif amount <= 5000:\n",
    "    disc = 0.125\n",
    "else :\n",
    "    disc = 0.25\n",
    "print(disc)"
   ]
  },
  {
   "cell_type": "code",
   "execution_count": 19,
   "metadata": {},
   "outputs": [
    {
     "name": "stdout",
     "output_type": "stream",
     "text": [
      "Discount 200.0\n",
      "Net payable: 1800.0\n"
     ]
    }
   ],
   "source": [
    "if amount<1000:\n",
    "    discount=amount*0.05\n",
    "    print (\"Discount\",discount)\n",
    "elif amount>=1000 and amount<5000:\n",
    "    discount=amount*0.10\n",
    "    print (\"Discount\",discount)\n",
    "else:\n",
    "    discount=amount*0.25\n",
    "    print (\"Discount\",discount)\n",
    "print (\"Net payable:\",amount-discount)"
   ]
  },
  {
   "cell_type": "code",
   "execution_count": null,
   "metadata": {},
   "outputs": [],
   "source": [
    "to check if a number is divisible by:\n",
    "    1. only 2\n",
    "    2. 2 and 3\n",
    "    3. only 3 not 2\n",
    "    4. not by either 2 or 3"
   ]
  },
  {
   "cell_type": "code",
   "execution_count": 20,
   "metadata": {},
   "outputs": [],
   "source": [
    "num = 44"
   ]
  },
  {
   "cell_type": "code",
   "execution_count": 3,
   "metadata": {},
   "outputs": [
    {
     "ename": "IndentationError",
     "evalue": "expected an indented block (<ipython-input-3-7eb674655ea5>, line 4)",
     "output_type": "error",
     "traceback": [
      "\u001b[1;36m  File \u001b[1;32m\"<ipython-input-3-7eb674655ea5>\"\u001b[1;36m, line \u001b[1;32m4\u001b[0m\n\u001b[1;33m    if num%3==0:\u001b[0m\n\u001b[1;37m     ^\u001b[0m\n\u001b[1;31mIndentationError\u001b[0m\u001b[1;31m:\u001b[0m expected an indented block\n"
     ]
    }
   ],
   "source": [
    "#Nested if\n",
    "if num%2==0:\n",
    "    print(\"No. is divisible by 2\")\n",
    "    if num%3==0:\n",
    "        print (\"Divisible by 3 and 2\")\n",
    "    else:\n",
    "        print (\"divisible by 2 not divisible by 3\")\n",
    "else:\n",
    "    if num%3==0:\n",
    "        print (\"divisible by 3 not divisible by 2\")\n",
    "    else:\n",
    "        print (\"not Divisible by 2 not divisible by 3\")"
   ]
  },
  {
   "cell_type": "code",
   "execution_count": 23,
   "metadata": {},
   "outputs": [
    {
     "name": "stdout",
     "output_type": "stream",
     "text": [
      "Good bye!\n"
     ]
    }
   ],
   "source": [
    "#Single Statement Suites\n",
    "var = 10\n",
    "if ( var == 100 ) : print (\"Value of expression is 100\")\n",
    "else : print (\"Good bye!\")"
   ]
  }
 ],
 "metadata": {
  "kernelspec": {
   "display_name": "Python 3",
   "language": "python",
   "name": "python3"
  },
  "language_info": {
   "codemirror_mode": {
    "name": "ipython",
    "version": 3
   },
   "file_extension": ".py",
   "mimetype": "text/x-python",
   "name": "python",
   "nbconvert_exporter": "python",
   "pygments_lexer": "ipython3",
   "version": "3.7.4"
  }
 },
 "nbformat": 4,
 "nbformat_minor": 2
}
