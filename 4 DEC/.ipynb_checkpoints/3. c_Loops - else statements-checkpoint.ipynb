{
 "cells": [
  {
   "cell_type": "code",
   "execution_count": null,
   "metadata": {},
   "outputs": [],
   "source": [
    "'''\n",
    "Using else Statement with Loops\n",
    "\n",
    "? If the else statement is used with a for loop, the else block is executed only if for\n",
    "loops terminates normally (and not by encountering break statement).\n",
    "\n",
    "? If the else statement is used with a while loop, the else statement is executed\n",
    "when the condition becomes false.\n",
    "\n",
    "'''"
   ]
  },
  {
   "cell_type": "raw",
   "metadata": {},
   "source": [
    "check if the list contains an even no. print appropriate message\n",
    "if not print appropriate message"
   ]
  },
  {
   "cell_type": "code",
   "execution_count": 1,
   "metadata": {},
   "outputs": [
    {
     "name": "stdout",
     "output_type": "stream",
     "text": [
      "the list does not contain even number\n",
      "0\n"
     ]
    }
   ],
   "source": [
    "numbers=[11,33,55,39,55,77,37,21,23,41,81]\n",
    "for num in numbers:\n",
    "    if num%2 == 0:\n",
    "        flag = 1\n",
    "        print ('the list contains an even number')\n",
    "        break\n",
    "    else :\n",
    "        flag = 0 \n",
    "if flag == 0: \n",
    "    print('the list does not contain even number')\n",
    "print(flag)"
   ]
  },
  {
   "cell_type": "code",
   "execution_count": 1,
   "metadata": {},
   "outputs": [
    {
     "name": "stdout",
     "output_type": "stream",
     "text": [
      "the list does not contain even number\n"
     ]
    }
   ],
   "source": [
    "numbers=[11,33,55,39,55,75,37,21,23,41,81]\n",
    "\n",
    "for num in numbers:\n",
    "    if num%2 ==0:\n",
    "        print ('the list contains an even number')\n",
    "        break\n",
    "else:\n",
    "    print ('the list does not contain even number')"
   ]
  },
  {
   "cell_type": "code",
   "execution_count": 1,
   "metadata": {},
   "outputs": [
    {
     "name": "stdout",
     "output_type": "stream",
     "text": [
      "11\n",
      "33\n",
      "55\n",
      "39\n",
      "55\n",
      "76\n",
      "the list contains an even number\n"
     ]
    }
   ],
   "source": [
    "numbers=[11,33,55,39,55,76,37,21,23,41,11]\n",
    "\n",
    "for num in numbers:\n",
    "    print(num)\n",
    "    if num%2 ==0:\n",
    "        print ('the list contains an even number')\n",
    "        break\n",
    "else:\n",
    "    print ('the list does not contain even number')"
   ]
  },
  {
   "cell_type": "code",
   "execution_count": 5,
   "metadata": {},
   "outputs": [
    {
     "name": "stdout",
     "output_type": "stream",
     "text": [
      "0  is less than 5\n",
      "1  is less than 5\n",
      "2  is less than 5\n",
      "3  is less than 5\n",
      "4  is less than 5\n",
      "5  is not less than 5\n"
     ]
    }
   ],
   "source": [
    "count = 0\n",
    "while count < 5:\n",
    "    print (count, \" is less than 5\")\n",
    "    count = count + 1\n",
    "else:\n",
    "    print (count, \" is not less than 5\")"
   ]
  },
  {
   "cell_type": "code",
   "execution_count": 4,
   "metadata": {},
   "outputs": [
    {
     "data": {
      "text/plain": [
       "[0, 1, 2, 3, 4, 5, 6, 7, 8, 9]"
      ]
     },
     "execution_count": 4,
     "metadata": {},
     "output_type": "execute_result"
    }
   ],
   "source": [
    "list(range(10))"
   ]
  },
  {
   "cell_type": "code",
   "execution_count": 7,
   "metadata": {},
   "outputs": [
    {
     "data": {
      "text/plain": [
       "[123, 45, 90, 23, 2, 3, 4, 5, 6, 7, 8, 9]"
      ]
     },
     "execution_count": 7,
     "metadata": {},
     "output_type": "execute_result"
    }
   ],
   "source": [
    "[123, 45, 90, 23]+list(range(2,10))"
   ]
  },
  {
   "cell_type": "code",
   "execution_count": 3,
   "metadata": {},
   "outputs": [],
   "source": [
    "num = 7"
   ]
  },
  {
   "cell_type": "code",
   "execution_count": 8,
   "metadata": {},
   "outputs": [
    {
     "name": "stdout",
     "output_type": "stream",
     "text": [
      "Not prime\n"
     ]
    }
   ],
   "source": [
    "for i in [123, 45, 90, 23]+list(range(2,10)):\n",
    "    if num% i ==0:\n",
    "        print(\"Not prime\")\n",
    "        break\n",
    "else :\n",
    "    print(\"Prime\")"
   ]
  },
  {
   "cell_type": "code",
   "execution_count": null,
   "metadata": {},
   "outputs": [],
   "source": []
  },
  {
   "cell_type": "code",
   "execution_count": null,
   "metadata": {},
   "outputs": [],
   "source": []
  },
  {
   "cell_type": "code",
   "execution_count": null,
   "metadata": {},
   "outputs": [],
   "source": []
  }
 ],
 "metadata": {
  "kernelspec": {
   "display_name": "Python 3",
   "language": "python",
   "name": "python3"
  },
  "language_info": {
   "codemirror_mode": {
    "name": "ipython",
    "version": 3
   },
   "file_extension": ".py",
   "mimetype": "text/x-python",
   "name": "python",
   "nbconvert_exporter": "python",
   "pygments_lexer": "ipython3",
   "version": "3.7.4"
  }
 },
 "nbformat": 4,
 "nbformat_minor": 2
}
