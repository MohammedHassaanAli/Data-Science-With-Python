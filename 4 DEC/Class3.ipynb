{
 "cells": [
  {
   "cell_type": "markdown",
   "metadata": {},
   "source": [
    "### Class 3 Contd"
   ]
  },
  {
   "cell_type": "code",
   "execution_count": 1,
   "metadata": {},
   "outputs": [],
   "source": [
    "d = {\"Afghanistan\": 4}"
   ]
  },
  {
   "cell_type": "code",
   "execution_count": 3,
   "metadata": {},
   "outputs": [],
   "source": [
    "import numpy as np\n",
    "d[\"Afghanistan\"] = np.nan "
   ]
  },
  {
   "cell_type": "code",
   "execution_count": 4,
   "metadata": {},
   "outputs": [
    {
     "data": {
      "text/plain": [
       "{'Afghanistan': nan}"
      ]
     },
     "execution_count": 4,
     "metadata": {},
     "output_type": "execute_result"
    }
   ],
   "source": [
    "d"
   ]
  },
  {
   "cell_type": "code",
   "execution_count": 5,
   "metadata": {},
   "outputs": [],
   "source": [
    "d.update({np.nan : 5})"
   ]
  },
  {
   "cell_type": "code",
   "execution_count": 6,
   "metadata": {},
   "outputs": [
    {
     "data": {
      "text/plain": [
       "{'Afghanistan': nan, nan: 5}"
      ]
     },
     "execution_count": 6,
     "metadata": {},
     "output_type": "execute_result"
    }
   ],
   "source": [
    "d"
   ]
  },
  {
   "cell_type": "markdown",
   "metadata": {},
   "source": [
    "### String Functions"
   ]
  },
  {
   "cell_type": "code",
   "execution_count": 7,
   "metadata": {},
   "outputs": [],
   "source": [
    "s = 'Samridhi'"
   ]
  },
  {
   "cell_type": "code",
   "execution_count": 8,
   "metadata": {},
   "outputs": [],
   "source": [
    "r = \"Samridhi\""
   ]
  },
  {
   "cell_type": "code",
   "execution_count": 10,
   "metadata": {},
   "outputs": [
    {
     "data": {
      "text/plain": [
       "\"doesn't\""
      ]
     },
     "execution_count": 10,
     "metadata": {},
     "output_type": "execute_result"
    }
   ],
   "source": [
    "t = \"doesn't\"\n",
    "t"
   ]
  },
  {
   "cell_type": "code",
   "execution_count": 12,
   "metadata": {},
   "outputs": [
    {
     "data": {
      "text/plain": [
       "\"doesn't\""
      ]
     },
     "execution_count": 12,
     "metadata": {},
     "output_type": "execute_result"
    }
   ],
   "source": [
    "u = 'doesn\\'t' #escape the special symbol\n",
    "u"
   ]
  },
  {
   "cell_type": "code",
   "execution_count": 14,
   "metadata": {},
   "outputs": [
    {
     "data": {
      "text/plain": [
       "'\"Yes\", he said'"
      ]
     },
     "execution_count": 14,
     "metadata": {},
     "output_type": "execute_result"
    }
   ],
   "source": [
    "v = '\"Yes\", he said'\n",
    "v"
   ]
  },
  {
   "cell_type": "code",
   "execution_count": 18,
   "metadata": {},
   "outputs": [
    {
     "data": {
      "text/plain": [
       "'\"Yes\", he said'"
      ]
     },
     "execution_count": 18,
     "metadata": {},
     "output_type": "execute_result"
    }
   ],
   "source": [
    "v = \"\\\"Yes\\\", he said\" #escape the special symbol\n",
    "v"
   ]
  },
  {
   "cell_type": "code",
   "execution_count": 19,
   "metadata": {},
   "outputs": [],
   "source": [
    "x = \"how are you \\n I am doing great \\n How are you?\""
   ]
  },
  {
   "cell_type": "code",
   "execution_count": 20,
   "metadata": {},
   "outputs": [
    {
     "data": {
      "text/plain": [
       "'how are you \\n I am doing great \\n How are you?'"
      ]
     },
     "execution_count": 20,
     "metadata": {},
     "output_type": "execute_result"
    }
   ],
   "source": [
    "x"
   ]
  },
  {
   "cell_type": "code",
   "execution_count": 21,
   "metadata": {},
   "outputs": [
    {
     "name": "stdout",
     "output_type": "stream",
     "text": [
      "how are you \n",
      " I am doing great \n",
      " How are you?\n"
     ]
    }
   ],
   "source": [
    "print(x)"
   ]
  },
  {
   "cell_type": "code",
   "execution_count": 23,
   "metadata": {},
   "outputs": [],
   "source": [
    "y = \"how are you \\new?\""
   ]
  },
  {
   "cell_type": "code",
   "execution_count": 24,
   "metadata": {},
   "outputs": [
    {
     "data": {
      "text/plain": [
       "'how are you \\new?'"
      ]
     },
     "execution_count": 24,
     "metadata": {},
     "output_type": "execute_result"
    }
   ],
   "source": [
    "y"
   ]
  },
  {
   "cell_type": "code",
   "execution_count": 25,
   "metadata": {},
   "outputs": [
    {
     "name": "stdout",
     "output_type": "stream",
     "text": [
      "how are you \n",
      "ew?\n"
     ]
    }
   ],
   "source": [
    "print(y)"
   ]
  },
  {
   "cell_type": "code",
   "execution_count": 26,
   "metadata": {},
   "outputs": [],
   "source": [
    "y = \"how are you \\\\new?\""
   ]
  },
  {
   "cell_type": "code",
   "execution_count": 27,
   "metadata": {},
   "outputs": [
    {
     "name": "stdout",
     "output_type": "stream",
     "text": [
      "how are you \\new?\n"
     ]
    }
   ],
   "source": [
    "print(y)"
   ]
  },
  {
   "cell_type": "code",
   "execution_count": 29,
   "metadata": {},
   "outputs": [],
   "source": [
    "z = \"C:\\\\Users\\Vaibhav\\Desktop\\2nd_Dec_Batch\""
   ]
  },
  {
   "cell_type": "code",
   "execution_count": 30,
   "metadata": {},
   "outputs": [
    {
     "data": {
      "text/plain": [
       "'C:\\\\Users\\\\Vaibhav\\\\Desktop\\x02nd_Dec_Batch'"
      ]
     },
     "execution_count": 30,
     "metadata": {},
     "output_type": "execute_result"
    }
   ],
   "source": [
    "z"
   ]
  },
  {
   "cell_type": "code",
   "execution_count": 31,
   "metadata": {},
   "outputs": [],
   "source": [
    "p = \"C:\\\\Users\\\\Vaibhav\\\\Desktop\\\\2nd_Dec_Batch\""
   ]
  },
  {
   "cell_type": "code",
   "execution_count": 32,
   "metadata": {},
   "outputs": [
    {
     "data": {
      "text/plain": [
       "'C:\\\\Users\\\\Vaibhav\\\\Desktop\\\\2nd_Dec_Batch'"
      ]
     },
     "execution_count": 32,
     "metadata": {},
     "output_type": "execute_result"
    }
   ],
   "source": [
    "p"
   ]
  },
  {
   "cell_type": "code",
   "execution_count": 34,
   "metadata": {},
   "outputs": [
    {
     "data": {
      "text/plain": [
       "'C:\\\\Users\\\\Vaibhav\\\\Desktop\\\\2nd_Dec_Batch'"
      ]
     },
     "execution_count": 34,
     "metadata": {},
     "output_type": "execute_result"
    }
   ],
   "source": [
    "q=r\"C:\\Users\\Vaibhav\\Desktop\\2nd_Dec_Batch\"\n",
    "q # it's a raw string, ignore the special meaning of \\"
   ]
  },
  {
   "cell_type": "code",
   "execution_count": 35,
   "metadata": {},
   "outputs": [
    {
     "name": "stdout",
     "output_type": "stream",
     "text": [
      "Hi, How are you?\n",
      " I am doing good. \n"
     ]
    }
   ],
   "source": [
    "print(\"Hi, How are you?\\n I am doing good. \")"
   ]
  },
  {
   "cell_type": "code",
   "execution_count": 40,
   "metadata": {},
   "outputs": [
    {
     "name": "stdout",
     "output_type": "stream",
     "text": [
      "Hi, How are you? \n",
      "I am doing good! \n",
      "How are you?\n",
      "These are multi-line strings, the output will be displayed in multiple lines\n"
     ]
    }
   ],
   "source": [
    "print(\"\"\"Hi, How are you? \n",
    "I am doing good! \n",
    "How are you?\n",
    "These are multi-line strings, the output will be displayed in multiple lines\"\"\")"
   ]
  },
  {
   "cell_type": "code",
   "execution_count": 41,
   "metadata": {},
   "outputs": [
    {
     "ename": "SyntaxError",
     "evalue": "EOL while scanning string literal (<ipython-input-41-ea216829910c>, line 1)",
     "output_type": "error",
     "traceback": [
      "\u001b[1;36m  File \u001b[1;32m\"<ipython-input-41-ea216829910c>\"\u001b[1;36m, line \u001b[1;32m1\u001b[0m\n\u001b[1;33m    print(\"Hi, How are you?\u001b[0m\n\u001b[1;37m                            ^\u001b[0m\n\u001b[1;31mSyntaxError\u001b[0m\u001b[1;31m:\u001b[0m EOL while scanning string literal\n"
     ]
    }
   ],
   "source": [
    "print(\"Hi, How are you? \\ \n",
    "I am doing good! \\\n",
    "How are you?\\\n",
    "These are multi-line strings, the output will be displayed in multiple lines\") #put \\ for line continuation"
   ]
  },
  {
   "cell_type": "code",
   "execution_count": 38,
   "metadata": {},
   "outputs": [
    {
     "data": {
      "text/plain": [
       "'SamridhiDutta'"
      ]
     },
     "execution_count": 38,
     "metadata": {},
     "output_type": "execute_result"
    }
   ],
   "source": [
    "\"Samridhi\" + \"Dutta\""
   ]
  },
  {
   "cell_type": "code",
   "execution_count": 39,
   "metadata": {},
   "outputs": [
    {
     "data": {
      "text/plain": [
       "'SamridhiSamridhiSamridhi'"
      ]
     },
     "execution_count": 39,
     "metadata": {},
     "output_type": "execute_result"
    }
   ],
   "source": [
    "\"Samridhi\"*3"
   ]
  },
  {
   "cell_type": "code",
   "execution_count": 42,
   "metadata": {},
   "outputs": [],
   "source": [
    "x = \"Samridhi\""
   ]
  },
  {
   "cell_type": "code",
   "execution_count": 43,
   "metadata": {},
   "outputs": [
    {
     "data": {
      "text/plain": [
       "'S'"
      ]
     },
     "execution_count": 43,
     "metadata": {},
     "output_type": "execute_result"
    }
   ],
   "source": [
    "x[0]"
   ]
  },
  {
   "cell_type": "code",
   "execution_count": 44,
   "metadata": {},
   "outputs": [
    {
     "data": {
      "text/plain": [
       "'a'"
      ]
     },
     "execution_count": 44,
     "metadata": {},
     "output_type": "execute_result"
    }
   ],
   "source": [
    "x[1]"
   ]
  },
  {
   "cell_type": "code",
   "execution_count": 45,
   "metadata": {},
   "outputs": [
    {
     "data": {
      "text/plain": [
       "'m'"
      ]
     },
     "execution_count": 45,
     "metadata": {},
     "output_type": "execute_result"
    }
   ],
   "source": [
    "x[2]"
   ]
  },
  {
   "cell_type": "code",
   "execution_count": 46,
   "metadata": {},
   "outputs": [
    {
     "data": {
      "text/plain": [
       "'i'"
      ]
     },
     "execution_count": 46,
     "metadata": {},
     "output_type": "execute_result"
    }
   ],
   "source": [
    "x[-1]"
   ]
  },
  {
   "cell_type": "code",
   "execution_count": 47,
   "metadata": {},
   "outputs": [
    {
     "data": {
      "text/plain": [
       "'h'"
      ]
     },
     "execution_count": 47,
     "metadata": {},
     "output_type": "execute_result"
    }
   ],
   "source": [
    "x[-2]"
   ]
  },
  {
   "cell_type": "code",
   "execution_count": 48,
   "metadata": {},
   "outputs": [
    {
     "data": {
      "text/plain": [
       "'d'"
      ]
     },
     "execution_count": 48,
     "metadata": {},
     "output_type": "execute_result"
    }
   ],
   "source": [
    "x[-3]"
   ]
  },
  {
   "cell_type": "code",
   "execution_count": 49,
   "metadata": {},
   "outputs": [
    {
     "data": {
      "text/plain": [
       "'Sa'"
      ]
     },
     "execution_count": 49,
     "metadata": {},
     "output_type": "execute_result"
    }
   ],
   "source": [
    "x[0:2]"
   ]
  },
  {
   "cell_type": "code",
   "execution_count": 57,
   "metadata": {},
   "outputs": [
    {
     "data": {
      "text/plain": [
       "'Samridhi'"
      ]
     },
     "execution_count": 57,
     "metadata": {},
     "output_type": "execute_result"
    }
   ],
   "source": [
    "x"
   ]
  },
  {
   "cell_type": "code",
   "execution_count": 50,
   "metadata": {
    "scrolled": true
   },
   "outputs": [
    {
     "data": {
      "text/plain": [
       "'Smih'"
      ]
     },
     "execution_count": 50,
     "metadata": {},
     "output_type": "execute_result"
    }
   ],
   "source": [
    "x[::2]"
   ]
  },
  {
   "cell_type": "code",
   "execution_count": 51,
   "metadata": {},
   "outputs": [
    {
     "data": {
      "text/plain": [
       "'ihdirmaS'"
      ]
     },
     "execution_count": 51,
     "metadata": {},
     "output_type": "execute_result"
    }
   ],
   "source": [
    "x[::-1]"
   ]
  },
  {
   "cell_type": "code",
   "execution_count": 52,
   "metadata": {},
   "outputs": [
    {
     "data": {
      "text/plain": [
       "'idra'"
      ]
     },
     "execution_count": 52,
     "metadata": {},
     "output_type": "execute_result"
    }
   ],
   "source": [
    "x[::-2]"
   ]
  },
  {
   "cell_type": "code",
   "execution_count": 53,
   "metadata": {},
   "outputs": [
    {
     "data": {
      "text/plain": [
       "'iia'"
      ]
     },
     "execution_count": 53,
     "metadata": {},
     "output_type": "execute_result"
    }
   ],
   "source": [
    "x[::-3]"
   ]
  },
  {
   "cell_type": "code",
   "execution_count": 55,
   "metadata": {},
   "outputs": [
    {
     "ename": "TypeError",
     "evalue": "'str' object does not support item assignment",
     "output_type": "error",
     "traceback": [
      "\u001b[1;31m---------------------------------------------------------------------------\u001b[0m",
      "\u001b[1;31mTypeError\u001b[0m                                 Traceback (most recent call last)",
      "\u001b[1;32m<ipython-input-55-6765dd9af8d8>\u001b[0m in \u001b[0;36m<module>\u001b[1;34m\u001b[0m\n\u001b[1;32m----> 1\u001b[1;33m \u001b[0mx\u001b[0m\u001b[1;33m[\u001b[0m\u001b[1;36m0\u001b[0m\u001b[1;33m]\u001b[0m \u001b[1;33m=\u001b[0m \u001b[1;34m\"P\"\u001b[0m\u001b[1;33m\u001b[0m\u001b[1;33m\u001b[0m\u001b[0m\n\u001b[0m",
      "\u001b[1;31mTypeError\u001b[0m: 'str' object does not support item assignment"
     ]
    }
   ],
   "source": [
    "x[0] = \"P\""
   ]
  },
  {
   "cell_type": "code",
   "execution_count": 56,
   "metadata": {},
   "outputs": [
    {
     "data": {
      "text/plain": [
       "'Paamridhi'"
      ]
     },
     "execution_count": 56,
     "metadata": {},
     "output_type": "execute_result"
    }
   ],
   "source": [
    "x.replace(\"S\", \"Pa\")"
   ]
  },
  {
   "cell_type": "code",
   "execution_count": 64,
   "metadata": {},
   "outputs": [
    {
     "data": {
      "text/plain": [
       "'Samridhi'"
      ]
     },
     "execution_count": 64,
     "metadata": {},
     "output_type": "execute_result"
    }
   ],
   "source": [
    "x"
   ]
  },
  {
   "cell_type": "code",
   "execution_count": 58,
   "metadata": {},
   "outputs": [
    {
     "data": {
      "text/plain": [
       "4"
      ]
     },
     "execution_count": 58,
     "metadata": {},
     "output_type": "execute_result"
    }
   ],
   "source": [
    "x.find(\"i\")"
   ]
  },
  {
   "cell_type": "code",
   "execution_count": 61,
   "metadata": {},
   "outputs": [
    {
     "data": {
      "text/plain": [
       "7"
      ]
     },
     "execution_count": 61,
     "metadata": {},
     "output_type": "execute_result"
    }
   ],
   "source": [
    "x.find(\"i\", 5)"
   ]
  },
  {
   "cell_type": "code",
   "execution_count": 63,
   "metadata": {},
   "outputs": [
    {
     "data": {
      "text/plain": [
       "8"
      ]
     },
     "execution_count": 63,
     "metadata": {},
     "output_type": "execute_result"
    }
   ],
   "source": [
    "len(x)"
   ]
  },
  {
   "cell_type": "code",
   "execution_count": 65,
   "metadata": {},
   "outputs": [
    {
     "data": {
      "text/plain": [
       "2"
      ]
     },
     "execution_count": 65,
     "metadata": {},
     "output_type": "execute_result"
    }
   ],
   "source": [
    "x.count(\"i\")"
   ]
  },
  {
   "cell_type": "code",
   "execution_count": 66,
   "metadata": {
    "scrolled": true
   },
   "outputs": [
    {
     "data": {
      "text/plain": [
       "7"
      ]
     },
     "execution_count": 66,
     "metadata": {},
     "output_type": "execute_result"
    }
   ],
   "source": [
    "x.rindex(\"i\")"
   ]
  },
  {
   "cell_type": "markdown",
   "metadata": {},
   "source": [
    "### Print command"
   ]
  },
  {
   "cell_type": "code",
   "execution_count": 67,
   "metadata": {},
   "outputs": [],
   "source": [
    "var = \"a = {}, b = {}, c = {}\".format(100,4, 10)"
   ]
  },
  {
   "cell_type": "code",
   "execution_count": 68,
   "metadata": {},
   "outputs": [
    {
     "data": {
      "text/plain": [
       "'a = 100, b = 4, c = 10'"
      ]
     },
     "execution_count": 68,
     "metadata": {},
     "output_type": "execute_result"
    }
   ],
   "source": [
    "var"
   ]
  },
  {
   "cell_type": "code",
   "execution_count": 69,
   "metadata": {},
   "outputs": [],
   "source": [
    "x,y,z = 100,200, 300"
   ]
  },
  {
   "cell_type": "code",
   "execution_count": 70,
   "metadata": {},
   "outputs": [
    {
     "name": "stdout",
     "output_type": "stream",
     "text": [
      "a = 300, b = 100, c = 200\n"
     ]
    }
   ],
   "source": [
    "print(\"a = {2}, b = {0}, c = {1}\".format(x,y,z))"
   ]
  },
  {
   "cell_type": "code",
   "execution_count": 71,
   "metadata": {},
   "outputs": [],
   "source": [
    "x = 1.5689"
   ]
  },
  {
   "cell_type": "code",
   "execution_count": 78,
   "metadata": {
    "scrolled": true
   },
   "outputs": [
    {
     "name": "stdout",
     "output_type": "stream",
     "text": [
      "a = 1.569\n"
     ]
    }
   ],
   "source": [
    "print('a = {:.4g}'.format(x)) #g means print 4 significant digits"
   ]
  },
  {
   "cell_type": "code",
   "execution_count": 80,
   "metadata": {},
   "outputs": [
    {
     "name": "stdout",
     "output_type": "stream",
     "text": [
      "a = 1.6\n"
     ]
    }
   ],
   "source": [
    "print('a = {:.1f}'.format(x)) #decimal uptil 1 place"
   ]
  },
  {
   "cell_type": "code",
   "execution_count": 82,
   "metadata": {},
   "outputs": [
    {
     "name": "stdout",
     "output_type": "stream",
     "text": [
      "a = 1.57\n"
     ]
    }
   ],
   "source": [
    "print('a = %.2f'%x) #%f for floats"
   ]
  },
  {
   "cell_type": "code",
   "execution_count": 83,
   "metadata": {},
   "outputs": [
    {
     "name": "stdout",
     "output_type": "stream",
     "text": [
      "a = 1\n"
     ]
    }
   ],
   "source": [
    "print(\"a = %d\"%x) #%d for integers"
   ]
  },
  {
   "cell_type": "code",
   "execution_count": 84,
   "metadata": {},
   "outputs": [
    {
     "name": "stdout",
     "output_type": "stream",
     "text": [
      "a = Samridhi\n"
     ]
    }
   ],
   "source": [
    "y = \"Samridhi\"\n",
    "print(\"a = %s\"%y) #%s for strings"
   ]
  },
  {
   "cell_type": "code",
   "execution_count": 89,
   "metadata": {},
   "outputs": [
    {
     "name": "stdout",
     "output_type": "stream",
     "text": [
      "I am taking the morning batch. My name is SAMRIDHI. My age is 25.0.\n"
     ]
    }
   ],
   "source": [
    "name = \"samridhi\"\n",
    "age = 25\n",
    "print(f\"I am taking the morning batch. My name is {name.upper()}. My age is {float(age)}.\")"
   ]
  },
  {
   "cell_type": "code",
   "execution_count": null,
   "metadata": {},
   "outputs": [],
   "source": [
    "#1111\n",
    "# 111\n",
    "#  11\n",
    "#   1"
   ]
  },
  {
   "cell_type": "code",
   "execution_count": 90,
   "metadata": {},
   "outputs": [
    {
     "name": "stdout",
     "output_type": "stream",
     "text": [
      "Please input the dimensions of the square matrix: 4\n"
     ]
    },
    {
     "data": {
      "text/plain": [
       "4"
      ]
     },
     "execution_count": 90,
     "metadata": {},
     "output_type": "execute_result"
    }
   ],
   "source": [
    "dim = int(input(\"Please input the dimensions of the square matrix: \"))\n",
    "dim"
   ]
  },
  {
   "cell_type": "code",
   "execution_count": 93,
   "metadata": {},
   "outputs": [
    {
     "name": "stdout",
     "output_type": "stream",
     "text": [
      "1111\n",
      "\n",
      " 111\n",
      "\n",
      "  11\n",
      "\n",
      "   1\n",
      "\n"
     ]
    }
   ],
   "source": [
    "for rn in range(dim):\n",
    "    for cn in range(dim):\n",
    "        if(cn<rn):\n",
    "            print(\" \", end = \"\")\n",
    "        else:\n",
    "            print(\"1\", end = \"\")\n",
    "    print(\"\\n\")"
   ]
  },
  {
   "cell_type": "code",
   "execution_count": 95,
   "metadata": {},
   "outputs": [
    {
     "name": "stdout",
     "output_type": "stream",
     "text": [
      " 11\n",
      "Notice this will come in next line, because the default value of end is - next line\n"
     ]
    }
   ],
   "source": [
    "print(\" \",end = \"\")\n",
    "print(\"1\", end = \"\")\n",
    "print(\"1\")\n",
    "print(\"Notice this will come in next line, because the default value of end is - next line\")"
   ]
  },
  {
   "cell_type": "code",
   "execution_count": 1,
   "metadata": {},
   "outputs": [],
   "source": [
    "def fn(age):\n",
    "    age = int(age)\n",
    "    if age<20:\n",
    "        print(\"You are a child\")\n",
    "    elif age<60:\n",
    "        print(\"You are an adult\")\n",
    "    else: \n",
    "        print(\"You are a senior citizen\")"
   ]
  },
  {
   "cell_type": "code",
   "execution_count": 2,
   "metadata": {},
   "outputs": [
    {
     "name": "stdout",
     "output_type": "stream",
     "text": [
      "Please enter your age: Samridhi\n"
     ]
    }
   ],
   "source": [
    "age = input(\"Please enter your age: \")"
   ]
  },
  {
   "cell_type": "code",
   "execution_count": 3,
   "metadata": {
    "scrolled": false
   },
   "outputs": [
    {
     "ename": "ValueError",
     "evalue": "invalid literal for int() with base 10: 'Samridhi'",
     "output_type": "error",
     "traceback": [
      "\u001b[1;31m---------------------------------------------------------------------------\u001b[0m",
      "\u001b[1;31mValueError\u001b[0m                                Traceback (most recent call last)",
      "\u001b[1;32m<ipython-input-3-9c576ac5cd3a>\u001b[0m in \u001b[0;36m<module>\u001b[1;34m\u001b[0m\n\u001b[1;32m----> 1\u001b[1;33m \u001b[0mfn\u001b[0m\u001b[1;33m(\u001b[0m\u001b[0mage\u001b[0m\u001b[1;33m)\u001b[0m\u001b[1;33m\u001b[0m\u001b[1;33m\u001b[0m\u001b[0m\n\u001b[0m",
      "\u001b[1;32m<ipython-input-1-61ef1fc8039b>\u001b[0m in \u001b[0;36mfn\u001b[1;34m(age)\u001b[0m\n\u001b[0;32m      1\u001b[0m \u001b[1;32mdef\u001b[0m \u001b[0mfn\u001b[0m\u001b[1;33m(\u001b[0m\u001b[0mage\u001b[0m\u001b[1;33m)\u001b[0m\u001b[1;33m:\u001b[0m\u001b[1;33m\u001b[0m\u001b[1;33m\u001b[0m\u001b[0m\n\u001b[1;32m----> 2\u001b[1;33m     \u001b[0mage\u001b[0m \u001b[1;33m=\u001b[0m \u001b[0mint\u001b[0m\u001b[1;33m(\u001b[0m\u001b[0mage\u001b[0m\u001b[1;33m)\u001b[0m\u001b[1;33m\u001b[0m\u001b[1;33m\u001b[0m\u001b[0m\n\u001b[0m\u001b[0;32m      3\u001b[0m     \u001b[1;32mif\u001b[0m \u001b[0mage\u001b[0m\u001b[1;33m<\u001b[0m\u001b[1;36m20\u001b[0m\u001b[1;33m:\u001b[0m\u001b[1;33m\u001b[0m\u001b[1;33m\u001b[0m\u001b[0m\n\u001b[0;32m      4\u001b[0m         \u001b[0mprint\u001b[0m\u001b[1;33m(\u001b[0m\u001b[1;34m\"You are a child\"\u001b[0m\u001b[1;33m)\u001b[0m\u001b[1;33m\u001b[0m\u001b[1;33m\u001b[0m\u001b[0m\n\u001b[0;32m      5\u001b[0m     \u001b[1;32melif\u001b[0m \u001b[0mage\u001b[0m\u001b[1;33m<\u001b[0m\u001b[1;36m60\u001b[0m\u001b[1;33m:\u001b[0m\u001b[1;33m\u001b[0m\u001b[1;33m\u001b[0m\u001b[0m\n",
      "\u001b[1;31mValueError\u001b[0m: invalid literal for int() with base 10: 'Samridhi'"
     ]
    }
   ],
   "source": [
    "fn(age)"
   ]
  },
  {
   "cell_type": "code",
   "execution_count": 4,
   "metadata": {},
   "outputs": [],
   "source": [
    "def fn(age):\n",
    "    try:\n",
    "        age = int(age)\n",
    "        if age<20:\n",
    "            print(\"You are a child\")\n",
    "        elif age<60:\n",
    "            print(\"You are an adult\")\n",
    "        else: \n",
    "            print(\"You are a senior citizen\")\n",
    "    except:\n",
    "        print(\"You need to enter a number\")"
   ]
  },
  {
   "cell_type": "code",
   "execution_count": 7,
   "metadata": {},
   "outputs": [
    {
     "name": "stdout",
     "output_type": "stream",
     "text": [
      "Please enter your age: Samridhi\n"
     ]
    }
   ],
   "source": [
    "age = input(\"Please enter your age: \")"
   ]
  },
  {
   "cell_type": "code",
   "execution_count": 8,
   "metadata": {
    "scrolled": false
   },
   "outputs": [
    {
     "name": "stdout",
     "output_type": "stream",
     "text": [
      "You need to enter a number\n"
     ]
    }
   ],
   "source": [
    "fn(age)"
   ]
  },
  {
   "cell_type": "markdown",
   "metadata": {},
   "source": [
    "----"
   ]
  },
  {
   "cell_type": "markdown",
   "metadata": {},
   "source": [
    "### Global and Local Variables"
   ]
  },
  {
   "cell_type": "code",
   "execution_count": 9,
   "metadata": {},
   "outputs": [],
   "source": [
    "x = 1\n",
    "#this is a global variable"
   ]
  },
  {
   "cell_type": "code",
   "execution_count": 10,
   "metadata": {},
   "outputs": [],
   "source": [
    "def fn(y): #y has a local scope - it is local to the fn. This variable can't be accessed outside the fn\n",
    "    try:\n",
    "        y = int(y)\n",
    "        if y<20:\n",
    "            print(\"You are a child\")\n",
    "        elif y<60:\n",
    "            print(\"You are an adult\")\n",
    "        else: \n",
    "            print(\"You are a senior citizen\")\n",
    "    except:\n",
    "        print(\"You need to enter a number\")"
   ]
  },
  {
   "cell_type": "code",
   "execution_count": 11,
   "metadata": {},
   "outputs": [
    {
     "name": "stdout",
     "output_type": "stream",
     "text": [
      "You are a child\n"
     ]
    }
   ],
   "source": [
    "fn(x)"
   ]
  },
  {
   "cell_type": "code",
   "execution_count": 12,
   "metadata": {},
   "outputs": [
    {
     "data": {
      "text/plain": [
       "1"
      ]
     },
     "execution_count": 12,
     "metadata": {},
     "output_type": "execute_result"
    }
   ],
   "source": [
    "x"
   ]
  },
  {
   "cell_type": "code",
   "execution_count": 13,
   "metadata": {
    "scrolled": true
   },
   "outputs": [
    {
     "ename": "NameError",
     "evalue": "name 'y' is not defined",
     "output_type": "error",
     "traceback": [
      "\u001b[1;31m---------------------------------------------------------------------------\u001b[0m",
      "\u001b[1;31mNameError\u001b[0m                                 Traceback (most recent call last)",
      "\u001b[1;32m<ipython-input-13-9063a9f0e032>\u001b[0m in \u001b[0;36m<module>\u001b[1;34m\u001b[0m\n\u001b[1;32m----> 1\u001b[1;33m \u001b[0my\u001b[0m\u001b[1;33m\u001b[0m\u001b[1;33m\u001b[0m\u001b[0m\n\u001b[0m",
      "\u001b[1;31mNameError\u001b[0m: name 'y' is not defined"
     ]
    }
   ],
   "source": [
    "y"
   ]
  },
  {
   "cell_type": "code",
   "execution_count": 19,
   "metadata": {},
   "outputs": [],
   "source": [
    "def fn():\n",
    "    global s\n",
    "    s = \"Samridhi\"\n",
    "    print(s)"
   ]
  },
  {
   "cell_type": "code",
   "execution_count": 16,
   "metadata": {},
   "outputs": [
    {
     "name": "stdout",
     "output_type": "stream",
     "text": [
      "Samridhi\n"
     ]
    }
   ],
   "source": [
    "fn()"
   ]
  },
  {
   "cell_type": "code",
   "execution_count": 17,
   "metadata": {},
   "outputs": [
    {
     "data": {
      "text/plain": [
       "'Samridhi'"
      ]
     },
     "execution_count": 17,
     "metadata": {},
     "output_type": "execute_result"
    }
   ],
   "source": [
    "s # I am able to access the value of s globally, because within the fn I declared s as the global variable"
   ]
  },
  {
   "cell_type": "code",
   "execution_count": 20,
   "metadata": {},
   "outputs": [
    {
     "data": {
      "text/plain": [
       "{'__name__': '__main__',\n",
       " '__doc__': 'Automatically created module for IPython interactive environment',\n",
       " '__package__': None,\n",
       " '__loader__': None,\n",
       " '__spec__': None,\n",
       " '__builtin__': <module 'builtins' (built-in)>,\n",
       " '__builtins__': <module 'builtins' (built-in)>,\n",
       " '_ih': ['',\n",
       "  'def fn(age):\\n    age = int(age)\\n    if age<20:\\n        print(\"You are a child\")\\n    elif age<60:\\n        print(\"You are an adult\")\\n    else: \\n        print(\"You are a senior citizen\")',\n",
       "  'age = input(\"Please enter your age: \")',\n",
       "  'fn(age)',\n",
       "  'def fn(age):\\n    try:\\n        age = int(age)\\n        if age<20:\\n            print(\"You are a child\")\\n        elif age<60:\\n            print(\"You are an adult\")\\n        else: \\n            print(\"You are a senior citizen\")\\n    except:\\n        print(\"You need to enter a number\")',\n",
       "  'age = input(\"Please enter your age: \")',\n",
       "  'fn(age)',\n",
       "  'age = input(\"Please enter your age: \")',\n",
       "  'fn(age)',\n",
       "  'x = 1',\n",
       "  'def fn(y):\\n    try:\\n        y = int(y)\\n        if y<20:\\n            print(\"You are a child\")\\n        elif y<60:\\n            print(\"You are an adult\")\\n        else: \\n            print(\"You are a senior citizen\")\\n    except:\\n        print(\"You need to enter a number\")',\n",
       "  'fn(x)',\n",
       "  'x',\n",
       "  'y',\n",
       "  'def fn(y): #y has a local scope - it is local to the fn. This variable can\\'t be accessed outside the fn\\n    try:\\n        global y\\n        y = int(y)\\n        if y<20:\\n            print(\"You are a child\")\\n        elif y<60:\\n            print(\"You are an adult\")\\n        else: \\n            print(\"You are a senior citizen\")\\n    except:\\n        print(\"You need to enter a number\")',\n",
       "  'def fn():\\n    global s\\n    s = \"Samridhi\"\\n    print(s)',\n",
       "  'fn()',\n",
       "  's',\n",
       "  'def fn():\\n    global s = \"Samridhi\"\\n    s = \"Samridhi\"\\n    print(s)',\n",
       "  'def fn():\\n    global s\\n    s = \"Samridhi\"\\n    print(s)',\n",
       "  'globals()'],\n",
       " '_oh': {12: 1, 17: 'Samridhi'},\n",
       " '_dh': ['C:\\\\Users\\\\Vaibhav\\\\Desktop\\\\2nd_Dec_Batch'],\n",
       " 'In': ['',\n",
       "  'def fn(age):\\n    age = int(age)\\n    if age<20:\\n        print(\"You are a child\")\\n    elif age<60:\\n        print(\"You are an adult\")\\n    else: \\n        print(\"You are a senior citizen\")',\n",
       "  'age = input(\"Please enter your age: \")',\n",
       "  'fn(age)',\n",
       "  'def fn(age):\\n    try:\\n        age = int(age)\\n        if age<20:\\n            print(\"You are a child\")\\n        elif age<60:\\n            print(\"You are an adult\")\\n        else: \\n            print(\"You are a senior citizen\")\\n    except:\\n        print(\"You need to enter a number\")',\n",
       "  'age = input(\"Please enter your age: \")',\n",
       "  'fn(age)',\n",
       "  'age = input(\"Please enter your age: \")',\n",
       "  'fn(age)',\n",
       "  'x = 1',\n",
       "  'def fn(y):\\n    try:\\n        y = int(y)\\n        if y<20:\\n            print(\"You are a child\")\\n        elif y<60:\\n            print(\"You are an adult\")\\n        else: \\n            print(\"You are a senior citizen\")\\n    except:\\n        print(\"You need to enter a number\")',\n",
       "  'fn(x)',\n",
       "  'x',\n",
       "  'y',\n",
       "  'def fn(y): #y has a local scope - it is local to the fn. This variable can\\'t be accessed outside the fn\\n    try:\\n        global y\\n        y = int(y)\\n        if y<20:\\n            print(\"You are a child\")\\n        elif y<60:\\n            print(\"You are an adult\")\\n        else: \\n            print(\"You are a senior citizen\")\\n    except:\\n        print(\"You need to enter a number\")',\n",
       "  'def fn():\\n    global s\\n    s = \"Samridhi\"\\n    print(s)',\n",
       "  'fn()',\n",
       "  's',\n",
       "  'def fn():\\n    global s = \"Samridhi\"\\n    s = \"Samridhi\"\\n    print(s)',\n",
       "  'def fn():\\n    global s\\n    s = \"Samridhi\"\\n    print(s)',\n",
       "  'globals()'],\n",
       " 'Out': {12: 1, 17: 'Samridhi'},\n",
       " 'get_ipython': <bound method InteractiveShell.get_ipython of <ipykernel.zmqshell.ZMQInteractiveShell object at 0x000001D10D667DD8>>,\n",
       " 'exit': <IPython.core.autocall.ZMQExitAutocall at 0x1d10d6f7390>,\n",
       " 'quit': <IPython.core.autocall.ZMQExitAutocall at 0x1d10d6f7390>,\n",
       " '_': 'Samridhi',\n",
       " '__': 1,\n",
       " '___': '',\n",
       " '_i': 'def fn():\\n    global s\\n    s = \"Samridhi\"\\n    print(s)',\n",
       " '_ii': 'def fn():\\n    global s = \"Samridhi\"\\n    s = \"Samridhi\"\\n    print(s)',\n",
       " '_iii': 's',\n",
       " '_i1': 'def fn(age):\\n    age = int(age)\\n    if age<20:\\n        print(\"You are a child\")\\n    elif age<60:\\n        print(\"You are an adult\")\\n    else: \\n        print(\"You are a senior citizen\")',\n",
       " 'fn': <function __main__.fn()>,\n",
       " '_i2': 'age = input(\"Please enter your age: \")',\n",
       " 'age': 'Samridhi',\n",
       " '_i3': 'fn(age)',\n",
       " '_i4': 'def fn(age):\\n    try:\\n        age = int(age)\\n        if age<20:\\n            print(\"You are a child\")\\n        elif age<60:\\n            print(\"You are an adult\")\\n        else: \\n            print(\"You are a senior citizen\")\\n    except:\\n        print(\"You need to enter a number\")',\n",
       " '_i5': 'age = input(\"Please enter your age: \")',\n",
       " '_i6': 'fn(age)',\n",
       " '_i7': 'age = input(\"Please enter your age: \")',\n",
       " '_i8': 'fn(age)',\n",
       " '_i9': 'x = 1',\n",
       " 'x': 1,\n",
       " '_i10': 'def fn(y):\\n    try:\\n        y = int(y)\\n        if y<20:\\n            print(\"You are a child\")\\n        elif y<60:\\n            print(\"You are an adult\")\\n        else: \\n            print(\"You are a senior citizen\")\\n    except:\\n        print(\"You need to enter a number\")',\n",
       " '_i11': 'fn(x)',\n",
       " '_i12': 'x',\n",
       " '_12': 1,\n",
       " '_i13': 'y',\n",
       " '_i14': 'def fn(y): #y has a local scope - it is local to the fn. This variable can\\'t be accessed outside the fn\\n    try:\\n        global y\\n        y = int(y)\\n        if y<20:\\n            print(\"You are a child\")\\n        elif y<60:\\n            print(\"You are an adult\")\\n        else: \\n            print(\"You are a senior citizen\")\\n    except:\\n        print(\"You need to enter a number\")',\n",
       " '_i15': 'def fn():\\n    global s\\n    s = \"Samridhi\"\\n    print(s)',\n",
       " '_i16': 'fn()',\n",
       " 's': 'Samridhi',\n",
       " '_i17': 's',\n",
       " '_17': 'Samridhi',\n",
       " '_i18': 'def fn():\\n    global s = \"Samridhi\"\\n    s = \"Samridhi\"\\n    print(s)',\n",
       " '_i19': 'def fn():\\n    global s\\n    s = \"Samridhi\"\\n    print(s)',\n",
       " '_i20': 'globals()'}"
      ]
     },
     "execution_count": 20,
     "metadata": {},
     "output_type": "execute_result"
    }
   ],
   "source": [
    "globals() #all the global variables that are there in the notebook are a part of globals dictionary"
   ]
  },
  {
   "cell_type": "code",
   "execution_count": 21,
   "metadata": {},
   "outputs": [
    {
     "data": {
      "text/plain": [
       "'Samridhi'"
      ]
     },
     "execution_count": 21,
     "metadata": {},
     "output_type": "execute_result"
    }
   ],
   "source": [
    "globals()['s']"
   ]
  },
  {
   "cell_type": "code",
   "execution_count": 22,
   "metadata": {},
   "outputs": [
    {
     "data": {
      "text/plain": [
       "<function __main__.fn()>"
      ]
     },
     "execution_count": 22,
     "metadata": {},
     "output_type": "execute_result"
    }
   ],
   "source": [
    "globals()[\"fn\"]"
   ]
  },
  {
   "cell_type": "code",
   "execution_count": 23,
   "metadata": {},
   "outputs": [
    {
     "data": {
      "text/plain": [
       "1"
      ]
     },
     "execution_count": 23,
     "metadata": {},
     "output_type": "execute_result"
    }
   ],
   "source": [
    "globals()['x']"
   ]
  },
  {
   "cell_type": "code",
   "execution_count": 30,
   "metadata": {},
   "outputs": [
    {
     "data": {
      "text/plain": [
       "1"
      ]
     },
     "execution_count": 30,
     "metadata": {},
     "output_type": "execute_result"
    }
   ],
   "source": [
    "x"
   ]
  },
  {
   "cell_type": "code",
   "execution_count": 31,
   "metadata": {},
   "outputs": [
    {
     "data": {
      "text/plain": [
       "1"
      ]
     },
     "execution_count": 31,
     "metadata": {},
     "output_type": "execute_result"
    }
   ],
   "source": [
    "globals()['x']"
   ]
  },
  {
   "cell_type": "code",
   "execution_count": 32,
   "metadata": {},
   "outputs": [],
   "source": [
    "stock_list = [\"MSFT\", \"INFY\", \"TATAMOTORS\", \"BHARATFINANCE\"]"
   ]
  },
  {
   "cell_type": "code",
   "execution_count": 33,
   "metadata": {},
   "outputs": [],
   "source": [
    "i = 0\n",
    "for stock_symbol in stock_list:\n",
    "    i+=10\n",
    "    globals()[stock_symbol] = i"
   ]
  },
  {
   "cell_type": "code",
   "execution_count": 34,
   "metadata": {},
   "outputs": [
    {
     "data": {
      "text/plain": [
       "10"
      ]
     },
     "execution_count": 34,
     "metadata": {},
     "output_type": "execute_result"
    }
   ],
   "source": [
    "globals()[\"MSFT\"]"
   ]
  },
  {
   "cell_type": "code",
   "execution_count": 35,
   "metadata": {},
   "outputs": [
    {
     "data": {
      "text/plain": [
       "10"
      ]
     },
     "execution_count": 35,
     "metadata": {},
     "output_type": "execute_result"
    }
   ],
   "source": [
    "MSFT"
   ]
  },
  {
   "cell_type": "code",
   "execution_count": 36,
   "metadata": {},
   "outputs": [
    {
     "data": {
      "text/plain": [
       "20"
      ]
     },
     "execution_count": 36,
     "metadata": {},
     "output_type": "execute_result"
    }
   ],
   "source": [
    "globals()[\"INFY\"]"
   ]
  },
  {
   "cell_type": "code",
   "execution_count": 37,
   "metadata": {},
   "outputs": [
    {
     "data": {
      "text/plain": [
       "20"
      ]
     },
     "execution_count": 37,
     "metadata": {},
     "output_type": "execute_result"
    }
   ],
   "source": [
    "INFY"
   ]
  },
  {
   "cell_type": "markdown",
   "metadata": {},
   "source": [
    "-----"
   ]
  },
  {
   "cell_type": "code",
   "execution_count": null,
   "metadata": {},
   "outputs": [],
   "source": [
    "#How to handle the file operations "
   ]
  },
  {
   "cell_type": "code",
   "execution_count": 38,
   "metadata": {},
   "outputs": [
    {
     "data": {
      "text/plain": [
       "'C:\\\\Users\\\\Vaibhav\\\\Desktop\\\\2nd_Dec_Batch'"
      ]
     },
     "execution_count": 38,
     "metadata": {},
     "output_type": "execute_result"
    }
   ],
   "source": [
    "pwd() #present working directory"
   ]
  },
  {
   "cell_type": "code",
   "execution_count": 39,
   "metadata": {},
   "outputs": [],
   "source": [
    "fhand = open(\"romeo.txt\", \"r\")"
   ]
  },
  {
   "cell_type": "code",
   "execution_count": 40,
   "metadata": {},
   "outputs": [
    {
     "data": {
      "text/plain": [
       "_io.TextIOWrapper"
      ]
     },
     "execution_count": 40,
     "metadata": {},
     "output_type": "execute_result"
    }
   ],
   "source": [
    "type(fhand)"
   ]
  },
  {
   "cell_type": "markdown",
   "metadata": {},
   "source": [
    "#### One way"
   ]
  },
  {
   "cell_type": "code",
   "execution_count": 41,
   "metadata": {},
   "outputs": [],
   "source": [
    "a = fhand.read() #read the entire file in  a single var"
   ]
  },
  {
   "cell_type": "code",
   "execution_count": 42,
   "metadata": {},
   "outputs": [
    {
     "data": {
      "text/plain": [
       "'But soft what light through yonder window breaks. It is the east and Juliet is the sun. Arise fair sun and kill the envious moon. Who is already sick and pale with grief\\n'"
      ]
     },
     "execution_count": 42,
     "metadata": {},
     "output_type": "execute_result"
    }
   ],
   "source": [
    "a"
   ]
  },
  {
   "cell_type": "markdown",
   "metadata": {},
   "source": [
    "#### Second way of reading the file"
   ]
  },
  {
   "cell_type": "code",
   "execution_count": 60,
   "metadata": {},
   "outputs": [],
   "source": [
    "fhand = open(\"romeo.txt\", \"r\") "
   ]
  },
  {
   "cell_type": "code",
   "execution_count": 61,
   "metadata": {},
   "outputs": [
    {
     "name": "stdout",
     "output_type": "stream",
     "text": [
      "1. But soft what light through yonder window breaks. It is the east and Juliet is the sun. \n",
      "\n",
      "2. Arise fair sun and kill the envious moon. Who is already sick and pale with grief\n",
      "\n"
     ]
    }
   ],
   "source": [
    "num = 1\n",
    "for line in fhand:    #iterate over the file line by line\n",
    "    print(num, end = \". \")\n",
    "    print(line)\n",
    "    num+=1\n",
    "    "
   ]
  },
  {
   "cell_type": "markdown",
   "metadata": {},
   "source": [
    "----"
   ]
  },
  {
   "cell_type": "code",
   "execution_count": 85,
   "metadata": {},
   "outputs": [],
   "source": [
    "fhand = open(\"romeo.txt\", \"r\")"
   ]
  },
  {
   "cell_type": "code",
   "execution_count": 86,
   "metadata": {},
   "outputs": [],
   "source": [
    "a = fhand.read()"
   ]
  },
  {
   "cell_type": "code",
   "execution_count": 87,
   "metadata": {},
   "outputs": [
    {
     "data": {
      "text/plain": [
       "'But soft what light through yonder window breaks. It is the east and Juliet is the sun. \\nArise fair sun and kill the envious moon. Who is already sick and pale with grief\\n'"
      ]
     },
     "execution_count": 87,
     "metadata": {},
     "output_type": "execute_result"
    }
   ],
   "source": [
    "a"
   ]
  },
  {
   "cell_type": "code",
   "execution_count": 88,
   "metadata": {},
   "outputs": [
    {
     "data": {
      "text/plain": [
       "['But soft what light through yonder window breaks. It is the east and Juliet is the sun. ',\n",
       " 'Arise fair sun and kill the envious moon. Who is already sick and pale with grief',\n",
       " '']"
      ]
     },
     "execution_count": 88,
     "metadata": {},
     "output_type": "execute_result"
    }
   ],
   "source": [
    "a.split(\"\\n\")"
   ]
  },
  {
   "cell_type": "code",
   "execution_count": 89,
   "metadata": {},
   "outputs": [],
   "source": [
    "x = \"\"\n",
    "?x.join"
   ]
  },
  {
   "cell_type": "code",
   "execution_count": 90,
   "metadata": {
    "scrolled": true
   },
   "outputs": [
    {
     "data": {
      "text/plain": [
       "'Samridhi Dutta'"
      ]
     },
     "execution_count": 90,
     "metadata": {},
     "output_type": "execute_result"
    }
   ],
   "source": [
    "\" \".join([\"Samridhi\", 'Dutta'])"
   ]
  },
  {
   "cell_type": "code",
   "execution_count": 91,
   "metadata": {},
   "outputs": [
    {
     "data": {
      "text/plain": [
       "'Samridhi.Dutta'"
      ]
     },
     "execution_count": 91,
     "metadata": {},
     "output_type": "execute_result"
    }
   ],
   "source": [
    "\".\".join([\"Samridhi\", \"Dutta\"])"
   ]
  },
  {
   "cell_type": "code",
   "execution_count": 92,
   "metadata": {},
   "outputs": [
    {
     "data": {
      "text/plain": [
       "'But soft what light through yonder window breaks. It is the east and Juliet is the sun. \\nArise fair sun and kill the envious moon. Who is already sick and pale with grief\\n'"
      ]
     },
     "execution_count": 92,
     "metadata": {},
     "output_type": "execute_result"
    }
   ],
   "source": [
    "a"
   ]
  },
  {
   "cell_type": "code",
   "execution_count": 93,
   "metadata": {},
   "outputs": [],
   "source": [
    "a = \"\".join(a.split(\"\\n\"))"
   ]
  },
  {
   "cell_type": "code",
   "execution_count": 94,
   "metadata": {},
   "outputs": [],
   "source": [
    "splitted_text = a.split(\" \")"
   ]
  },
  {
   "cell_type": "code",
   "execution_count": 71,
   "metadata": {
    "scrolled": true
   },
   "outputs": [
    {
     "data": {
      "text/plain": [
       "['But',\n",
       " 'soft',\n",
       " 'what',\n",
       " 'light',\n",
       " 'through',\n",
       " 'yonder',\n",
       " 'window',\n",
       " 'breaks.',\n",
       " 'It',\n",
       " 'is',\n",
       " 'the',\n",
       " 'east',\n",
       " 'and',\n",
       " 'Juliet',\n",
       " 'is',\n",
       " 'the',\n",
       " 'sun.',\n",
       " 'Arise',\n",
       " 'fair',\n",
       " 'sun',\n",
       " 'and',\n",
       " 'kill',\n",
       " 'the',\n",
       " 'envious',\n",
       " 'moon.',\n",
       " 'Who',\n",
       " 'is',\n",
       " 'already',\n",
       " 'sick',\n",
       " 'and',\n",
       " 'pale',\n",
       " 'with',\n",
       " 'grief']"
      ]
     },
     "execution_count": 71,
     "metadata": {},
     "output_type": "execute_result"
    }
   ],
   "source": [
    "splitted_text"
   ]
  },
  {
   "cell_type": "code",
   "execution_count": 95,
   "metadata": {},
   "outputs": [],
   "source": [
    "counts ={}"
   ]
  },
  {
   "cell_type": "code",
   "execution_count": 81,
   "metadata": {},
   "outputs": [],
   "source": [
    "#splitted_text = [\"How\", \"are\", \"How\", \"are\", \"you\", \"are\"]"
   ]
  },
  {
   "cell_type": "code",
   "execution_count": 96,
   "metadata": {},
   "outputs": [],
   "source": [
    "for word in splitted_text:\n",
    "    counts[word] = counts.get(word, 0)+1"
   ]
  },
  {
   "cell_type": "code",
   "execution_count": 97,
   "metadata": {},
   "outputs": [
    {
     "data": {
      "text/plain": [
       "{'But': 1,\n",
       " 'soft': 1,\n",
       " 'what': 1,\n",
       " 'light': 1,\n",
       " 'through': 1,\n",
       " 'yonder': 1,\n",
       " 'window': 1,\n",
       " 'breaks.': 1,\n",
       " 'It': 1,\n",
       " 'is': 3,\n",
       " 'the': 3,\n",
       " 'east': 1,\n",
       " 'and': 3,\n",
       " 'Juliet': 1,\n",
       " 'sun.': 1,\n",
       " 'Arise': 1,\n",
       " 'fair': 1,\n",
       " 'sun': 1,\n",
       " 'kill': 1,\n",
       " 'envious': 1,\n",
       " 'moon.': 1,\n",
       " 'Who': 1,\n",
       " 'already': 1,\n",
       " 'sick': 1,\n",
       " 'pale': 1,\n",
       " 'with': 1,\n",
       " 'grief': 1}"
      ]
     },
     "execution_count": 97,
     "metadata": {},
     "output_type": "execute_result"
    }
   ],
   "source": [
    "counts"
   ]
  },
  {
   "cell_type": "code",
   "execution_count": 100,
   "metadata": {},
   "outputs": [
    {
     "data": {
      "text/plain": [
       "[('But', 1),\n",
       " ('soft', 1),\n",
       " ('what', 1),\n",
       " ('light', 1),\n",
       " ('through', 1),\n",
       " ('yonder', 1),\n",
       " ('window', 1),\n",
       " ('breaks.', 1),\n",
       " ('It', 1),\n",
       " ('is', 3),\n",
       " ('the', 3),\n",
       " ('east', 1),\n",
       " ('and', 3),\n",
       " ('Juliet', 1),\n",
       " ('sun.', 1),\n",
       " ('Arise', 1),\n",
       " ('fair', 1),\n",
       " ('sun', 1),\n",
       " ('kill', 1),\n",
       " ('envious', 1),\n",
       " ('moon.', 1),\n",
       " ('Who', 1),\n",
       " ('already', 1),\n",
       " ('sick', 1),\n",
       " ('pale', 1),\n",
       " ('with', 1),\n",
       " ('grief', 1)]"
      ]
     },
     "execution_count": 100,
     "metadata": {},
     "output_type": "execute_result"
    }
   ],
   "source": [
    "list(counts.items())"
   ]
  },
  {
   "cell_type": "code",
   "execution_count": 98,
   "metadata": {},
   "outputs": [
    {
     "name": "stdout",
     "output_type": "stream",
     "text": [
      "But 1\n",
      "soft 1\n",
      "what 1\n",
      "light 1\n",
      "through 1\n",
      "yonder 1\n",
      "window 1\n",
      "breaks. 1\n",
      "It 1\n",
      "is 3\n",
      "the 3\n",
      "east 1\n",
      "and 3\n",
      "Juliet 1\n",
      "sun. 1\n",
      "Arise 1\n",
      "fair 1\n",
      "sun 1\n",
      "kill 1\n",
      "envious 1\n",
      "moon. 1\n",
      "Who 1\n",
      "already 1\n",
      "sick 1\n",
      "pale 1\n",
      "with 1\n",
      "grief 1\n"
     ]
    }
   ],
   "source": [
    "for k,v in counts.items():\n",
    "    print(k,v)"
   ]
  },
  {
   "cell_type": "code",
   "execution_count": 102,
   "metadata": {},
   "outputs": [
    {
     "name": "stdout",
     "output_type": "stream",
     "text": [
      "1,1,1,1,1,1,1,1,1,3,3,1,3,1,1,1,1,1,1,1,1,1,1,1,1,1,1,"
     ]
    }
   ],
   "source": [
    "for k in counts.keys():\n",
    "    print(counts[k], end = \",\")"
   ]
  },
  {
   "cell_type": "code",
   "execution_count": 103,
   "metadata": {},
   "outputs": [],
   "source": [
    "lst = [\"Samridhi\", \"Dutta\"]"
   ]
  },
  {
   "cell_type": "code",
   "execution_count": 105,
   "metadata": {},
   "outputs": [
    {
     "data": {
      "text/plain": [
       "[(0, 'Samridhi'), (1, 'Dutta')]"
      ]
     },
     "execution_count": 105,
     "metadata": {},
     "output_type": "execute_result"
    }
   ],
   "source": [
    "list(enumerate(lst))"
   ]
  },
  {
   "cell_type": "code",
   "execution_count": null,
   "metadata": {},
   "outputs": [],
   "source": []
  },
  {
   "cell_type": "code",
   "execution_count": null,
   "metadata": {},
   "outputs": [],
   "source": []
  },
  {
   "cell_type": "code",
   "execution_count": null,
   "metadata": {},
   "outputs": [],
   "source": []
  },
  {
   "cell_type": "code",
   "execution_count": null,
   "metadata": {},
   "outputs": [],
   "source": []
  },
  {
   "cell_type": "code",
   "execution_count": null,
   "metadata": {},
   "outputs": [],
   "source": []
  },
  {
   "cell_type": "code",
   "execution_count": null,
   "metadata": {},
   "outputs": [],
   "source": []
  },
  {
   "cell_type": "code",
   "execution_count": null,
   "metadata": {},
   "outputs": [],
   "source": []
  },
  {
   "cell_type": "code",
   "execution_count": null,
   "metadata": {},
   "outputs": [],
   "source": []
  },
  {
   "cell_type": "code",
   "execution_count": null,
   "metadata": {},
   "outputs": [],
   "source": []
  }
 ],
 "metadata": {
  "kernelspec": {
   "display_name": "Python 3",
   "language": "python",
   "name": "python3"
  },
  "language_info": {
   "codemirror_mode": {
    "name": "ipython",
    "version": 3
   },
   "file_extension": ".py",
   "mimetype": "text/x-python",
   "name": "python",
   "nbconvert_exporter": "python",
   "pygments_lexer": "ipython3",
   "version": "3.6.8"
  }
 },
 "nbformat": 4,
 "nbformat_minor": 2
}
