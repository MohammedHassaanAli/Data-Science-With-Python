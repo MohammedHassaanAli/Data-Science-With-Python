{
 "cells": [
  {
   "cell_type": "code",
   "execution_count": 1,
   "metadata": {},
   "outputs": [
    {
     "name": "stdout",
     "output_type": "stream",
     "text": [
      "table of  2\n",
      "2 X 1 = 2\n",
      "2 X 2 = 4\n",
      "2 X 3 = 6\n",
      "2 X 4 = 8\n",
      "2 X 5 = 10\n",
      "2 X 6 = 12\n",
      "2 X 7 = 14\n",
      "2 X 8 = 16\n",
      "2 X 9 = 18\n",
      "2 X 10 = 20\n",
      "2 X 11 = 22\n",
      "2 X 12 = 24\n",
      "2 X 13 = 26\n",
      "2 X 14 = 28\n",
      "2 X 15 = 30\n",
      "2 X 16 = 32\n",
      "2 X 17 = 34\n",
      "2 X 18 = 36\n",
      "2 X 19 = 38\n",
      "2 X 20 = 40\n",
      "End of inner Loop\n",
      "table of  3\n",
      "3 X 1 = 3\n",
      "3 X 2 = 6\n",
      "3 X 3 = 9\n",
      "3 X 4 = 12\n",
      "3 X 5 = 15\n",
      "3 X 6 = 18\n",
      "3 X 7 = 21\n",
      "3 X 8 = 24\n",
      "3 X 9 = 27\n",
      "3 X 10 = 30\n",
      "3 X 11 = 33\n",
      "3 X 12 = 36\n",
      "3 X 13 = 39\n",
      "3 X 14 = 42\n",
      "3 X 15 = 45\n",
      "3 X 16 = 48\n",
      "3 X 17 = 51\n",
      "3 X 18 = 54\n",
      "3 X 19 = 57\n",
      "3 X 20 = 60\n",
      "End of inner Loop\n",
      "table of  4\n",
      "4 X 1 = 4\n",
      "4 X 2 = 8\n",
      "4 X 3 = 12\n",
      "4 X 4 = 16\n",
      "4 X 5 = 20\n",
      "4 X 6 = 24\n",
      "4 X 7 = 28\n",
      "4 X 8 = 32\n",
      "4 X 9 = 36\n",
      "4 X 10 = 40\n",
      "4 X 11 = 44\n",
      "4 X 12 = 48\n",
      "4 X 13 = 52\n",
      "4 X 14 = 56\n",
      "4 X 15 = 60\n",
      "4 X 16 = 64\n",
      "4 X 17 = 68\n",
      "4 X 18 = 72\n",
      "4 X 19 = 76\n",
      "4 X 20 = 80\n",
      "End of inner Loop\n",
      "End\n"
     ]
    }
   ],
   "source": [
    " # Nested Loops\n",
    "for i in range(2,5): #ie it will take values 2 and 3\n",
    "    print(\"table of \",i)\n",
    "    for j in range(1,21):\n",
    "        k=i*j\n",
    "        print (\"{} X {} = {}\".format(i,j,k))\n",
    "        #print(\"inner Loop executing\")\n",
    "    print(\"End of inner Loop\")\n",
    "print(\"End\")    "
   ]
  },
  {
   "cell_type": "code",
   "execution_count": null,
   "metadata": {},
   "outputs": [],
   "source": [
    "#Assignment\n",
    "#1111\n",
    "# 111\n",
    "#  11\n",
    "#   1"
   ]
  },
  {
   "cell_type": "code",
   "execution_count": null,
   "metadata": {},
   "outputs": [],
   "source": [
    "inp = input(\"Please enter the dimensions of the square matrix: \")\n",
    "inp = int(inp)\n",
    "for row in range(inp):\n",
    "    lst = []\n",
    "    for col in range(inp):\n",
    "        if(row>col):\n",
    "            lst.append(\" \")\n",
    "        else:\n",
    "            lst.append(\"1\")\n",
    "    x = ''.join(lst) \n",
    "    print(x)"
   ]
  },
  {
   "cell_type": "code",
   "execution_count": 8,
   "metadata": {},
   "outputs": [
    {
     "name": "stdout",
     "output_type": "stream",
     "text": [
      "the count is :  0\n",
      "the count is :  1\n",
      "the count is :  2\n",
      "the count is :  3\n",
      "the count is :  4\n",
      "the count is :  5\n",
      "the count is :  6\n",
      "the count is :  7\n",
      "the count is :  8\n",
      "Good  bye!\n"
     ]
    }
   ],
   "source": [
    "count = 0\n",
    "while count < 9:\n",
    "    print ( 'the count is : ', count)\n",
    "    count = count+1\n",
    "print ( \"Good  bye!\")"
   ]
  },
  {
   "cell_type": "code",
   "execution_count": 1,
   "metadata": {},
   "outputs": [
    {
     "data": {
      "text/plain": [
       "'z = 3.00 y = 2.0 x = 1 z = 3'"
      ]
     },
     "execution_count": 1,
     "metadata": {},
     "output_type": "execute_result"
    }
   ],
   "source": [
    "x,y,z = 1,2, 3\n",
    "\n",
    "\"z = {2:.2f} y = {0:.1f} x = {1} z = {2}\".format(y,x,z)\n"
   ]
  },
  {
   "cell_type": "code",
   "execution_count": null,
   "metadata": {},
   "outputs": [],
   "source": [
    "'''\n",
    "Loop control statement\n",
    "\n",
    "break statement :  Terminates the loop statement and transfers execution to the statement \n",
    "                        immediately following the loop\n",
    "\n",
    "continue statement: Causes the loop to skip the remainder of its body and immediately \n",
    "                    retest its condition prior to reiterating.\n",
    "\n",
    "'''"
   ]
  },
  {
   "cell_type": "code",
   "execution_count": 12,
   "metadata": {},
   "outputs": [
    {
     "name": "stdout",
     "output_type": "stream",
     "text": [
      "Current Letter : P\n",
      "Current Letter : y\n",
      "Current Letter : t\n",
      "Good Bye\n"
     ]
    }
   ],
   "source": [
    "# Break Statement\n",
    "# First Example\n",
    "\n",
    "for letter in 'Python':\n",
    "    if letter == 'h':\n",
    "        break\n",
    "        print(\"no letter\")\n",
    "    print ('Current Letter :', letter)\n",
    "print(\"Good Bye\")"
   ]
  },
  {
   "cell_type": "code",
   "execution_count": 2,
   "metadata": {},
   "outputs": [
    {
     "name": "stdout",
     "output_type": "stream",
     "text": [
      "Current variable value : 10\n",
      "Current variable value : 9\n",
      "Current variable value : 8\n",
      "Current variable value : 7\n",
      "Current variable value : 6\n",
      "Good bye\n"
     ]
    }
   ],
   "source": [
    "# Second Example\n",
    "var = 10\n",
    "while var > 0:\n",
    "    print ('Current variable value :', var)\n",
    "    var = var -1\n",
    "    if var == 5:\n",
    "        break\n",
    "        \n",
    "print (\"Good bye\")"
   ]
  },
  {
   "cell_type": "code",
   "execution_count": 6,
   "metadata": {},
   "outputs": [
    {
     "name": "stdout",
     "output_type": "stream",
     "text": [
      "Current Letter : P\n",
      "Current Letter : y\n",
      "Current Letter : t\n",
      "Current Letter : o\n",
      "Current Letter : n\n",
      "good bye\n"
     ]
    }
   ],
   "source": [
    "#Continue statement\n",
    "# First Example\n",
    "\n",
    "for letter in 'Python': \n",
    "    if letter == 'h':\n",
    "        continue\n",
    "    print ('Current Letter :', letter)\n",
    "\n",
    "print(\"good bye\")"
   ]
  },
  {
   "cell_type": "code",
   "execution_count": 4,
   "metadata": {},
   "outputs": [
    {
     "name": "stdout",
     "output_type": "stream",
     "text": [
      "Current variable value : 9\n",
      "Current variable value : 8\n",
      "Current variable value : 7\n",
      "Current variable value : 6\n",
      "Current variable value : 4\n",
      "Current variable value : 3\n",
      "Current variable value : 2\n",
      "Current variable value : 1\n",
      "Current variable value : 0\n",
      "Good bye!\n"
     ]
    }
   ],
   "source": [
    "# Second Example\n",
    "\n",
    "var = 10\n",
    "while var > 0:\n",
    "    var = var -1\n",
    "    if var == 5:\n",
    "        continue\n",
    "    print ('Current variable value :', var)\n",
    "\n",
    "print (\"Good bye!\")\n",
    "\n"
   ]
  },
  {
   "cell_type": "code",
   "execution_count": 2,
   "metadata": {},
   "outputs": [
    {
     "name": "stdout",
     "output_type": "stream",
     "text": [
      "Current Letter : P\n",
      "Current Letter : y\n",
      "Current Letter : t\n",
      "Current Letter : h\n",
      "Current Letter : o\n",
      "Current Letter : n\n"
     ]
    }
   ],
   "source": [
    "for letter in 'Python': \n",
    "    if letter == 'h':\n",
    "        pass #do nothing - just a filler - where as continue will skip the loop\n",
    "    print ('Current Letter :', letter)\n",
    "\n"
   ]
  },
  {
   "cell_type": "code",
   "execution_count": null,
   "metadata": {},
   "outputs": [],
   "source": []
  },
  {
   "cell_type": "markdown",
   "metadata": {},
   "source": [
    "format()---> used with strings\n",
    "\n",
    "'x '\n"
   ]
  },
  {
   "cell_type": "code",
   "execution_count": 5,
   "metadata": {},
   "outputs": [
    {
     "ename": "NameError",
     "evalue": "name 'x' is not defined",
     "output_type": "error",
     "traceback": [
      "\u001b[1;31m---------------------------------------------------------------------------\u001b[0m",
      "\u001b[1;31mNameError\u001b[0m                                 Traceback (most recent call last)",
      "\u001b[1;32m<ipython-input-5-9eea4c0cf681>\u001b[0m in \u001b[0;36m<module>\u001b[1;34m\u001b[0m\n\u001b[1;32m----> 1\u001b[1;33m \u001b[0mprint\u001b[0m\u001b[1;33m(\u001b[0m\u001b[1;34m'the value of x = '\u001b[0m\u001b[1;33m,\u001b[0m \u001b[0mx\u001b[0m\u001b[1;33m,\u001b[0m \u001b[1;34m' y = '\u001b[0m\u001b[1;33m,\u001b[0m \u001b[0my\u001b[0m\u001b[1;33m,\u001b[0m \u001b[1;34m'  z = '\u001b[0m\u001b[1;33m,\u001b[0m\u001b[0mz\u001b[0m\u001b[1;33m)\u001b[0m\u001b[1;33m\u001b[0m\u001b[1;33m\u001b[0m\u001b[0m\n\u001b[0m",
      "\u001b[1;31mNameError\u001b[0m: name 'x' is not defined"
     ]
    }
   ],
   "source": [
    "print('the value of x = ', x, ' y = ', y, '  z = ',z)"
   ]
  },
  {
   "cell_type": "code",
   "execution_count": 7,
   "metadata": {},
   "outputs": [
    {
     "ename": "NameError",
     "evalue": "name 'x' is not defined",
     "output_type": "error",
     "traceback": [
      "\u001b[1;31m---------------------------------------------------------------------------\u001b[0m",
      "\u001b[1;31mNameError\u001b[0m                                 Traceback (most recent call last)",
      "\u001b[1;32m<ipython-input-7-67032588db3b>\u001b[0m in \u001b[0;36m<module>\u001b[1;34m\u001b[0m\n\u001b[1;32m----> 1\u001b[1;33m \u001b[0mprint\u001b[0m\u001b[1;33m(\u001b[0m\u001b[1;34m'the value of x = {} y = {} z = {}'\u001b[0m\u001b[1;33m.\u001b[0m\u001b[0mformat\u001b[0m\u001b[1;33m(\u001b[0m\u001b[0mx\u001b[0m\u001b[1;33m,\u001b[0m \u001b[0my\u001b[0m\u001b[1;33m,\u001b[0m \u001b[0mz\u001b[0m\u001b[1;33m)\u001b[0m\u001b[1;33m)\u001b[0m\u001b[1;33m\u001b[0m\u001b[1;33m\u001b[0m\u001b[0m\n\u001b[0m",
      "\u001b[1;31mNameError\u001b[0m: name 'x' is not defined"
     ]
    }
   ],
   "source": [
    "print('the value of x = {} y = {} z = {}'.format(x, y, z))"
   ]
  },
  {
   "cell_type": "code",
   "execution_count": 12,
   "metadata": {},
   "outputs": [
    {
     "name": "stdout",
     "output_type": "stream",
     "text": [
      "the value of x = 1 y = 2 z = 3 x = 1\n"
     ]
    }
   ],
   "source": [
    "print('the value of x = {2} y = {1} z = {0} x = {2}'.format(z, y, x))"
   ]
  },
  {
   "cell_type": "code",
   "execution_count": null,
   "metadata": {},
   "outputs": [],
   "source": []
  }
 ],
 "metadata": {
  "kernelspec": {
   "display_name": "Python 3",
   "language": "python",
   "name": "python3"
  },
  "language_info": {
   "codemirror_mode": {
    "name": "ipython",
    "version": 3
   },
   "file_extension": ".py",
   "mimetype": "text/x-python",
   "name": "python",
   "nbconvert_exporter": "python",
   "pygments_lexer": "ipython3",
   "version": "3.7.4"
  }
 },
 "nbformat": 4,
 "nbformat_minor": 2
}
